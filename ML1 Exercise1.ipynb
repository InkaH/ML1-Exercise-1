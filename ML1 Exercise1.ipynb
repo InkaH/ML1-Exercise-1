{
 "cells": [
  {
   "cell_type": "markdown",
   "metadata": {},
   "source": [
    "## Machine learning 1 - exercise 1 - Wines \n",
    "* Use regression to predict the alcohol level of the wine.\n",
    "* Use binary classification to predict the type of wine.\n",
    "* Use multiclass classification to predict the quality of the wine.\n",
    "#### For each task test two classifiers, report accuracy with the default parameters. Perform some manual optimization of the parameters (at least 5 different values for each parameter) and plot the new obtained accuracy as a function of the chosen parameter (max. 2). Using your best result, plot the feature importance for the binary classification or the coefficient magnitudes for regression (hint: choose your classifier accordingly)."
   ]
  },
  {
   "cell_type": "code",
   "execution_count": 1,
   "metadata": {},
   "outputs": [],
   "source": [
    "import pandas as pd\n",
    "import matplotlib.pyplot as plt\n",
    "import numpy as np\n",
    "import mglearn\n",
    "%matplotlib inline"
   ]
  },
  {
   "cell_type": "code",
   "execution_count": 2,
   "metadata": {},
   "outputs": [],
   "source": [
    "df_red = pd.read_csv('assigment_data/winequality-red.csv', sep=';')\n",
    "df_white = pd.read_csv('assigment_data/winequality-white.csv', sep=';')"
   ]
  },
  {
   "cell_type": "code",
   "execution_count": 3,
   "metadata": {},
   "outputs": [],
   "source": [
    "df_red['type'] = 1"
   ]
  },
  {
   "cell_type": "code",
   "execution_count": 4,
   "metadata": {},
   "outputs": [],
   "source": [
    "df_white['type'] = 0"
   ]
  },
  {
   "cell_type": "code",
   "execution_count": 5,
   "metadata": {},
   "outputs": [],
   "source": [
    "df = pd.concat([df_red, df_white])"
   ]
  },
  {
   "cell_type": "code",
   "execution_count": 6,
   "metadata": {},
   "outputs": [
    {
     "data": {
      "text/html": [
       "<div>\n",
       "<style scoped>\n",
       "    .dataframe tbody tr th:only-of-type {\n",
       "        vertical-align: middle;\n",
       "    }\n",
       "\n",
       "    .dataframe tbody tr th {\n",
       "        vertical-align: top;\n",
       "    }\n",
       "\n",
       "    .dataframe thead th {\n",
       "        text-align: right;\n",
       "    }\n",
       "</style>\n",
       "<table border=\"1\" class=\"dataframe\">\n",
       "  <thead>\n",
       "    <tr style=\"text-align: right;\">\n",
       "      <th></th>\n",
       "      <th>fixed acidity</th>\n",
       "      <th>volatile acidity</th>\n",
       "      <th>citric acid</th>\n",
       "      <th>residual sugar</th>\n",
       "      <th>chlorides</th>\n",
       "      <th>free sulfur dioxide</th>\n",
       "      <th>total sulfur dioxide</th>\n",
       "      <th>density</th>\n",
       "      <th>pH</th>\n",
       "      <th>sulphates</th>\n",
       "      <th>alcohol</th>\n",
       "      <th>quality</th>\n",
       "      <th>type</th>\n",
       "    </tr>\n",
       "  </thead>\n",
       "  <tbody>\n",
       "    <tr>\n",
       "      <th>0</th>\n",
       "      <td>7.4</td>\n",
       "      <td>0.70</td>\n",
       "      <td>0.00</td>\n",
       "      <td>1.9</td>\n",
       "      <td>0.076</td>\n",
       "      <td>11.0</td>\n",
       "      <td>34.0</td>\n",
       "      <td>0.9978</td>\n",
       "      <td>3.51</td>\n",
       "      <td>0.56</td>\n",
       "      <td>9.4</td>\n",
       "      <td>5</td>\n",
       "      <td>1</td>\n",
       "    </tr>\n",
       "    <tr>\n",
       "      <th>1</th>\n",
       "      <td>7.8</td>\n",
       "      <td>0.88</td>\n",
       "      <td>0.00</td>\n",
       "      <td>2.6</td>\n",
       "      <td>0.098</td>\n",
       "      <td>25.0</td>\n",
       "      <td>67.0</td>\n",
       "      <td>0.9968</td>\n",
       "      <td>3.20</td>\n",
       "      <td>0.68</td>\n",
       "      <td>9.8</td>\n",
       "      <td>5</td>\n",
       "      <td>1</td>\n",
       "    </tr>\n",
       "    <tr>\n",
       "      <th>2</th>\n",
       "      <td>7.8</td>\n",
       "      <td>0.76</td>\n",
       "      <td>0.04</td>\n",
       "      <td>2.3</td>\n",
       "      <td>0.092</td>\n",
       "      <td>15.0</td>\n",
       "      <td>54.0</td>\n",
       "      <td>0.9970</td>\n",
       "      <td>3.26</td>\n",
       "      <td>0.65</td>\n",
       "      <td>9.8</td>\n",
       "      <td>5</td>\n",
       "      <td>1</td>\n",
       "    </tr>\n",
       "    <tr>\n",
       "      <th>3</th>\n",
       "      <td>11.2</td>\n",
       "      <td>0.28</td>\n",
       "      <td>0.56</td>\n",
       "      <td>1.9</td>\n",
       "      <td>0.075</td>\n",
       "      <td>17.0</td>\n",
       "      <td>60.0</td>\n",
       "      <td>0.9980</td>\n",
       "      <td>3.16</td>\n",
       "      <td>0.58</td>\n",
       "      <td>9.8</td>\n",
       "      <td>6</td>\n",
       "      <td>1</td>\n",
       "    </tr>\n",
       "    <tr>\n",
       "      <th>4</th>\n",
       "      <td>7.4</td>\n",
       "      <td>0.70</td>\n",
       "      <td>0.00</td>\n",
       "      <td>1.9</td>\n",
       "      <td>0.076</td>\n",
       "      <td>11.0</td>\n",
       "      <td>34.0</td>\n",
       "      <td>0.9978</td>\n",
       "      <td>3.51</td>\n",
       "      <td>0.56</td>\n",
       "      <td>9.4</td>\n",
       "      <td>5</td>\n",
       "      <td>1</td>\n",
       "    </tr>\n",
       "  </tbody>\n",
       "</table>\n",
       "</div>"
      ],
      "text/plain": [
       "   fixed acidity  volatile acidity  citric acid  residual sugar  chlorides  \\\n",
       "0            7.4              0.70         0.00             1.9      0.076   \n",
       "1            7.8              0.88         0.00             2.6      0.098   \n",
       "2            7.8              0.76         0.04             2.3      0.092   \n",
       "3           11.2              0.28         0.56             1.9      0.075   \n",
       "4            7.4              0.70         0.00             1.9      0.076   \n",
       "\n",
       "   free sulfur dioxide  total sulfur dioxide  density    pH  sulphates  \\\n",
       "0                 11.0                  34.0   0.9978  3.51       0.56   \n",
       "1                 25.0                  67.0   0.9968  3.20       0.68   \n",
       "2                 15.0                  54.0   0.9970  3.26       0.65   \n",
       "3                 17.0                  60.0   0.9980  3.16       0.58   \n",
       "4                 11.0                  34.0   0.9978  3.51       0.56   \n",
       "\n",
       "   alcohol  quality  type  \n",
       "0      9.4        5     1  \n",
       "1      9.8        5     1  \n",
       "2      9.8        5     1  \n",
       "3      9.8        6     1  \n",
       "4      9.4        5     1  "
      ]
     },
     "execution_count": 6,
     "metadata": {},
     "output_type": "execute_result"
    }
   ],
   "source": [
    "df.head()"
   ]
  },
  {
   "cell_type": "markdown",
   "metadata": {},
   "source": [
    "### Use regression to predict the alcohol level of the wine."
   ]
  },
  {
   "cell_type": "code",
   "execution_count": 7,
   "metadata": {},
   "outputs": [],
   "source": [
    "from sklearn.model_selection import train_test_split\n",
    "X = np.array(df.drop(['alcohol'], 1))\n",
    "y = np.array(df['alcohol'])"
   ]
  },
  {
   "cell_type": "markdown",
   "metadata": {},
   "source": [
    "### As first classifier, we choose Lasso"
   ]
  },
  {
   "cell_type": "code",
   "execution_count": 8,
   "metadata": {},
   "outputs": [],
   "source": [
    "from sklearn.linear_model import Lasso\n",
    "\n",
    "X_train, X_test, y_train, y_test = train_test_split(X, y)\n",
    "training_accuracy = []\n",
    "test_accuracy = []"
   ]
  },
  {
   "cell_type": "code",
   "execution_count": 9,
   "metadata": {},
   "outputs": [
    {
     "name": "stdout",
     "output_type": "stream",
     "text": [
      "Training set accuracy: 0.10\n",
      "Test set accuracy: 0.10\n",
      "Number of features used: 2\n"
     ]
    }
   ],
   "source": [
    "lasso = Lasso().fit(X_train, y_train)\n",
    "print(\"Training set accuracy: {:.2f}\".format(lasso.score(X_train, y_train)))\n",
    "training_accuracy.append(lasso.score(X_train, y_train))\n",
    "print(\"Test set accuracy: {:.2f}\".format(lasso.score(X_test, y_test)))\n",
    "test_accuracy.append(lasso.score(X_test, y_test))\n",
    "print(\"Number of features used: {}\".format(np.sum(lasso.coef_ != 0)))"
   ]
  },
  {
   "cell_type": "code",
   "execution_count": 10,
   "metadata": {},
   "outputs": [
    {
     "name": "stdout",
     "output_type": "stream",
     "text": [
      "Training set accuracy: 0.10\n",
      "Test set accuracy: 0.10\n",
      "Number of features used: 2\n"
     ]
    }
   ],
   "source": [
    "lasso01 = Lasso(alpha=0.1).fit(X_train, y_train)\n",
    "print(\"Training set accuracy: {:.2f}\".format(lasso.score(X_train, y_train)))\n",
    "training_accuracy.append(lasso.score(X_train, y_train))\n",
    "print(\"Test set accuracy: {:.2f}\".format(lasso.score(X_test, y_test)))\n",
    "test_accuracy.append(lasso.score(X_test, y_test))\n",
    "print(\"Number of features used: {}\".format(np.sum(lasso.coef_ != 0)))"
   ]
  },
  {
   "cell_type": "code",
   "execution_count": 11,
   "metadata": {},
   "outputs": [
    {
     "name": "stdout",
     "output_type": "stream",
     "text": [
      "Training set accuracy: 0.39\n",
      "Test set accuracy: 0.35\n",
      "Number of features used: 7\n"
     ]
    }
   ],
   "source": [
    "# we are underfitting with the default alpha, so let's try a smaller alpha\n",
    "lasso001 = Lasso(alpha=0.01, max_iter=100000).fit(X_train, y_train)\n",
    "print(\"Training set accuracy: {:.2f}\".format(lasso001.score(X_train, y_train)))\n",
    "training_accuracy.append(lasso001.score(X_train, y_train))\n",
    "print(\"Test set accuracy: {:.2f}\".format(lasso001.score(X_test, y_test)))\n",
    "test_accuracy.append(lasso001.score(X_test, y_test))\n",
    "print(\"Number of features used: {}\".format(np.sum(lasso001.coef_ != 0)))"
   ]
  },
  {
   "cell_type": "code",
   "execution_count": 12,
   "metadata": {},
   "outputs": [
    {
     "name": "stdout",
     "output_type": "stream",
     "text": [
      "Training set accuracy: 0.44\n",
      "Test set accuracy: 0.40\n",
      "Number of features used: 11\n"
     ]
    }
   ],
   "source": [
    "# let's try an even smaller alpha for better results\n",
    "lasso0001 = Lasso(alpha=0.001, max_iter=100000).fit(X_train, y_train)\n",
    "print(\"Training set accuracy: {:.2f}\".format(lasso0001.score(X_train, y_train)))\n",
    "training_accuracy.append(lasso0001.score(X_train, y_train))\n",
    "print(\"Test set accuracy: {:.2f}\".format(lasso0001.score(X_test, y_test)))\n",
    "test_accuracy.append(lasso0001.score(X_test, y_test))\n",
    "print(\"Number of features used: {}\".format(np.sum(lasso0001.coef_ != 0)))"
   ]
  },
  {
   "cell_type": "code",
   "execution_count": 13,
   "metadata": {},
   "outputs": [
    {
     "name": "stdout",
     "output_type": "stream",
     "text": [
      "Training set accuracy: 0.81\n",
      "Test set accuracy: 0.83\n",
      "Number of features used: 12\n"
     ]
    }
   ],
   "source": [
    "# let's try an even smaller alpha for better results\n",
    "lasso00001 = Lasso(alpha=0.0001, max_iter=100000).fit(X_train, y_train)\n",
    "print(\"Training set accuracy: {:.2f}\".format(lasso00001.score(X_train, y_train)))\n",
    "training_accuracy.append(lasso00001.score(X_train, y_train))\n",
    "print(\"Test set accuracy: {:.2f}\".format(lasso00001.score(X_test, y_test)))\n",
    "test_accuracy.append(lasso00001.score(X_test, y_test))\n",
    "print(\"Number of features used: {}\".format(np.sum(lasso00001.coef_ != 0)))"
   ]
  },
  {
   "cell_type": "code",
   "execution_count": 14,
   "metadata": {},
   "outputs": [
    {
     "name": "stdout",
     "output_type": "stream",
     "text": [
      "Training set accuracy: 0.82\n",
      "Test set accuracy: 0.84\n",
      "Number of features used: 12\n"
     ]
    }
   ],
   "source": [
    "# let's normalize\n",
    "lasso00001normalized = Lasso(alpha=0.0001, max_iter=100000, normalize=True).fit(X_train, y_train)\n",
    "print(\"Training set accuracy: {:.2f}\".format(lasso00001normalized.score(X_train, y_train)))\n",
    "training_accuracy.append(lasso00001normalized.score(X_train, y_train))\n",
    "print(\"Test set accuracy: {:.2f}\".format(lasso00001normalized.score(X_test, y_test)))\n",
    "test_accuracy.append(lasso00001normalized.score(X_test, y_test))\n",
    "print(\"Number of features used: {}\".format(np.sum(lasso00001normalized.coef_ != 0)))"
   ]
  },
  {
   "cell_type": "code",
   "execution_count": 15,
   "metadata": {},
   "outputs": [
    {
     "name": "stdout",
     "output_type": "stream",
     "text": [
      "Training set accuracy: 0.82\n",
      "Test set accuracy: 0.84\n",
      "Number of features used: 12\n"
     ]
    }
   ],
   "source": [
    "# let's try set tolerance\n",
    "lasso00001_norm_tol = Lasso(alpha=0.0001, max_iter=100000, normalize=True, tol=0.0001).fit(X_train, y_train)\n",
    "print(\"Training set accuracy: {:.2f}\".format(lasso00001_norm_tol.score(X_train, y_train)))\n",
    "print(\"Test set accuracy: {:.2f}\".format(lasso00001_norm_tol.score(X_test, y_test)))\n",
    "print(\"Number of features used: {}\".format(np.sum(lasso00001_norm_tol.coef_ != 0)))"
   ]
  },
  {
   "cell_type": "code",
   "execution_count": 16,
   "metadata": {},
   "outputs": [
    {
     "name": "stdout",
     "output_type": "stream",
     "text": [
      "Training set accuracy: 0.43\n",
      "Test set accuracy: 0.39\n",
      "Number of features used: 12\n"
     ]
    }
   ],
   "source": [
    "# let's try no intercept\n",
    "lasso00001_norm_tol = Lasso(alpha=0.0001, max_iter=100000, fit_intercept=False).fit(X_train, y_train)\n",
    "print(\"Training set accuracy: {:.2f}\".format(lasso00001_norm_tol.score(X_train, y_train)))\n",
    "print(\"Test set accuracy: {:.2f}\".format(lasso00001_norm_tol.score(X_test, y_test)))\n",
    "print(\"Number of features used: {}\".format(np.sum(lasso00001_norm_tol.coef_ != 0)))"
   ]
  },
  {
   "cell_type": "markdown",
   "metadata": {},
   "source": [
    "### plot accuracy change"
   ]
  },
  {
   "cell_type": "code",
   "execution_count": 17,
   "metadata": {},
   "outputs": [],
   "source": [
    "lasso_settings = [1, 0.1, 0.01, 0.001, 0.0001, '0.0001 norm']"
   ]
  },
  {
   "cell_type": "code",
   "execution_count": 18,
   "metadata": {},
   "outputs": [
    {
     "data": {
      "text/plain": [
       "<matplotlib.legend.Legend at 0x2ec0262e5f8>"
      ]
     },
     "execution_count": 18,
     "metadata": {},
     "output_type": "execute_result"
    },
    {
     "data": {
      "image/png": "[encoded data removed]",
      "text/plain": [
       "<Figure size 432x288 with 1 Axes>"
      ]
     },
     "metadata": {},
     "output_type": "display_data"
    }
   ],
   "source": [
    "plt.plot(lasso_settings, training_accuracy, label=\"training accuracy\")\n",
    "plt.plot(lasso_settings, test_accuracy, label=\"test accuracy\", linestyle= ':')\n",
    "plt.ylabel(\"Accuracy\")\n",
    "plt.xlabel(\"alpha\")\n",
    "plt.legend()"
   ]
  },
  {
   "cell_type": "markdown",
   "metadata": {},
   "source": [
    "### lasso00001normalized seems best, let's plot coefficients."
   ]
  },
  {
   "cell_type": "code",
   "execution_count": 19,
   "metadata": {},
   "outputs": [
    {
     "data": {
      "text/plain": [
       "(-4, 4)"
      ]
     },
     "execution_count": 19,
     "metadata": {},
     "output_type": "execute_result"
    },
    {
     "data": {
      "image/png": "[encoded data removed]",
      "text/plain": [
       "<Figure size 432x288 with 1 Axes>"
      ]
     },
     "metadata": {},
     "output_type": "display_data"
    }
   ],
   "source": [
    "plt.plot(lasso00001normalized.coef_, 'o', label=\"Lasso alpha 0.0001 normalized\")\n",
    "plt.xlabel(\"Coefficient index\")\n",
    "plt.ylabel(\"Coefficient magnitude\")\n",
    "plt.legend(ncol=2, loc=(0, 1.05))\n",
    "plt.ylim(-4, 4) #one feature has a low coefficient magnitude of little less than -600, so it's not visible in this limitation"
   ]
  },
  {
   "cell_type": "code",
   "execution_count": 20,
   "metadata": {},
   "outputs": [
    {
     "data": {
      "text/plain": [
       "(-650, -600)"
      ]
     },
     "execution_count": 20,
     "metadata": {},
     "output_type": "execute_result"
    },
    {
     "data": {
      "image/png": "[encoded data removed]",
      "text/plain": [
       "<Figure size 432x288 with 1 Axes>"
      ]
     },
     "metadata": {},
     "output_type": "display_data"
    }
   ],
   "source": [
    "plt.plot(lasso00001normalized.coef_, 'o', label=\"Lasso alpha 0.0001 normalized\")\n",
    "plt.xlabel(\"Coefficient index\")\n",
    "plt.ylabel(\"Coefficient magnitude\")\n",
    "plt.legend(ncol=2, loc=(0, 1.05))\n",
    "plt.ylim(-650, -600)"
   ]
  },
  {
   "cell_type": "markdown",
   "metadata": {},
   "source": [
    "### As second classifier, we choose ElasticNet"
   ]
  },
  {
   "cell_type": "code",
   "execution_count": 21,
   "metadata": {},
   "outputs": [],
   "source": [
    "from sklearn.linear_model import ElasticNet\n",
    "\n",
    "X = np.array(df.drop(['alcohol'], 1))\n",
    "y = np.array(df['alcohol'])\n",
    "X_train, X_test, y_train, y_test = train_test_split(X, y)\n",
    "training_accuracy = []\n",
    "test_accuracy = []"
   ]
  },
  {
   "cell_type": "code",
   "execution_count": 22,
   "metadata": {},
   "outputs": [
    {
     "name": "stdout",
     "output_type": "stream",
     "text": [
      "Training set accuracy: 0.13\n",
      "Test set accuracy: 0.13\n",
      "Number of features used: 2\n"
     ]
    }
   ],
   "source": [
    "elastic = ElasticNet().fit(X_train, y_train)\n",
    "print(\"Training set accuracy: {:.2f}\".format(elastic.score(X_train, y_train)))\n",
    "training_accuracy.append(elastic.score(X_train, y_train))\n",
    "print(\"Test set accuracy: {:.2f}\".format(elastic.score(X_test, y_test)))\n",
    "test_accuracy.append(elastic.score(X_test, y_test))\n",
    "print(\"Number of features used: {}\".format(np.sum(elastic.coef_ != 0)))"
   ]
  },
  {
   "cell_type": "code",
   "execution_count": 23,
   "metadata": {},
   "outputs": [
    {
     "name": "stdout",
     "output_type": "stream",
     "text": [
      "Training set accuracy: 0.39\n",
      "Test set accuracy: 0.36\n",
      "Number of features used: 10\n"
     ]
    }
   ],
   "source": [
    "#reduce alpha to combat underfitting\n",
    "elastic001 = ElasticNet(alpha=0.01).fit(X_train, y_train)\n",
    "print(\"Training set accuracy: {:.2f}\".format(elastic001.score(X_train, y_train)))\n",
    "training_accuracy.append(elastic001.score(X_train, y_train))\n",
    "print(\"Test set accuracy: {:.2f}\".format(elastic001.score(X_test, y_test)))\n",
    "test_accuracy.append(elastic001.score(X_test, y_test))\n",
    "print(\"Number of features used: {}\".format(np.sum(elastic001.coef_ != 0)))"
   ]
  },
  {
   "cell_type": "code",
   "execution_count": 24,
   "metadata": {},
   "outputs": [
    {
     "name": "stdout",
     "output_type": "stream",
     "text": [
      "Training set accuracy: 0.43\n",
      "Test set accuracy: 0.40\n",
      "Number of features used: 12\n"
     ]
    }
   ],
   "source": [
    "#reduce alpha again\n",
    "elastic0001 = ElasticNet(alpha=0.001).fit(X_train, y_train)\n",
    "print(\"Training set accuracy: {:.2f}\".format(elastic0001.score(X_train, y_train)))\n",
    "training_accuracy.append(elastic0001.score(X_train, y_train))\n",
    "print(\"Test set accuracy: {:.2f}\".format(elastic0001.score(X_test, y_test)))\n",
    "test_accuracy.append(elastic0001.score(X_test, y_test))\n",
    "print(\"Number of features used: {}\".format(np.sum(elastic0001.coef_ != 0)))"
   ]
  },
  {
   "cell_type": "code",
   "execution_count": 25,
   "metadata": {},
   "outputs": [
    {
     "name": "stdout",
     "output_type": "stream",
     "text": [
      "Training set accuracy: 0.46\n",
      "Test set accuracy: 0.42\n",
      "Number of features used: 12\n"
     ]
    }
   ],
   "source": [
    "#reduce alpha \n",
    "elastic00001 = ElasticNet(alpha=0.0001).fit(X_train, y_train)\n",
    "print(\"Training set accuracy: {:.2f}\".format(elastic00001.score(X_train, y_train)))\n",
    "training_accuracy.append(elastic00001.score(X_train, y_train))\n",
    "print(\"Test set accuracy: {:.2f}\".format(elastic00001.score(X_test, y_test)))\n",
    "test_accuracy.append(elastic00001.score(X_test, y_test))\n",
    "print(\"Number of features used: {}\".format(np.sum(elastic00001.coef_ != 0)))"
   ]
  },
  {
   "cell_type": "code",
   "execution_count": 26,
   "metadata": {},
   "outputs": [
    {
     "name": "stdout",
     "output_type": "stream",
     "text": [
      "Training set accuracy: 0.64\n",
      "Test set accuracy: 0.64\n",
      "Number of features used: 12\n"
     ]
    }
   ],
   "source": [
    "#add normalization\n",
    "elastic00001norm = ElasticNet(alpha=0.0001, normalize=True).fit(X_train, y_train)\n",
    "print(\"Training set accuracy: {:.2f}\".format(elastic00001norm.score(X_train, y_train)))\n",
    "training_accuracy.append(elastic00001norm.score(X_train, y_train))\n",
    "print(\"Test set accuracy: {:.2f}\".format(elastic00001norm.score(X_test, y_test)))\n",
    "test_accuracy.append(elastic00001norm.score(X_test, y_test))\n",
    "print(\"Number of features used: {}\".format(np.sum(elastic00001norm.coef_ != 0)))"
   ]
  },
  {
   "cell_type": "code",
   "execution_count": 27,
   "metadata": {},
   "outputs": [
    {
     "name": "stdout",
     "output_type": "stream",
     "text": [
      "Training set accuracy: 0.59\n",
      "Test set accuracy: 0.58\n",
      "Number of features used: 12\n"
     ]
    }
   ],
   "source": [
    "#try reduce l1/l2 ratio\n",
    "elastic00001l101 = ElasticNet(alpha=0.0001, normalize=True, l1_ratio=0.1).fit(X_train, y_train)\n",
    "print(\"Training set accuracy: {:.2f}\".format(elastic00001l101.score(X_train, y_train)))\n",
    "training_accuracy.append(elastic00001l101.score(X_train, y_train))\n",
    "print(\"Test set accuracy: {:.2f}\".format(elastic00001l101.score(X_test, y_test)))\n",
    "test_accuracy.append(elastic00001l101.score(X_test, y_test))\n",
    "print(\"Number of features used: {}\".format(np.sum(elastic00001l101.coef_ != 0)))"
   ]
  },
  {
   "cell_type": "code",
   "execution_count": 28,
   "metadata": {},
   "outputs": [
    {
     "name": "stdout",
     "output_type": "stream",
     "text": [
      "Training set accuracy: 0.61\n",
      "Test set accuracy: 0.61\n",
      "Number of features used: 12\n"
     ]
    }
   ],
   "source": [
    "#increase l1/l2 ratio\n",
    "elastic00001l103 = ElasticNet(alpha=0.0001, normalize=True, l1_ratio=0.3).fit(X_train, y_train)\n",
    "print(\"Training set accuracy: {:.2f}\".format(elastic00001l103.score(X_train, y_train)))\n",
    "training_accuracy.append(elastic00001l103.score(X_train, y_train))\n",
    "print(\"Test set accuracy: {:.2f}\".format(elastic00001l103.score(X_test, y_test)))\n",
    "test_accuracy.append(elastic00001l103.score(X_test, y_test))\n",
    "print(\"Number of features used: {}\".format(np.sum(elastic00001l103.coef_ != 0)))"
   ]
  },
  {
   "cell_type": "code",
   "execution_count": 29,
   "metadata": {},
   "outputs": [
    {
     "name": "stdout",
     "output_type": "stream",
     "text": [
      "Training set accuracy: 0.64\n",
      "Test set accuracy: 0.64\n",
      "Number of features used: 12\n"
     ]
    }
   ],
   "source": [
    "#increase l1/l2 ratio\n",
    "elastic00001l103 = ElasticNet(alpha=0.0001, normalize=True, l1_ratio=0.5).fit(X_train, y_train)\n",
    "print(\"Training set accuracy: {:.2f}\".format(elastic00001l103.score(X_train, y_train)))\n",
    "training_accuracy.append(elastic00001l103.score(X_train, y_train))\n",
    "print(\"Test set accuracy: {:.2f}\".format(elastic00001l103.score(X_test, y_test)))\n",
    "test_accuracy.append(elastic00001l103.score(X_test, y_test))\n",
    "print(\"Number of features used: {}\".format(np.sum(elastic00001l103.coef_ != 0)))"
   ]
  },
  {
   "cell_type": "code",
   "execution_count": 30,
   "metadata": {},
   "outputs": [
    {
     "name": "stdout",
     "output_type": "stream",
     "text": [
      "Training set accuracy: 0.69\n",
      "Test set accuracy: 0.69\n",
      "Number of features used: 12\n"
     ]
    }
   ],
   "source": [
    "#increase l1/l2 ratio\n",
    "elastic00001l107 = ElasticNet(alpha=0.0001, normalize=True, l1_ratio=0.7).fit(X_train, y_train)\n",
    "print(\"Training set accuracy: {:.2f}\".format(elastic00001l107.score(X_train, y_train)))\n",
    "training_accuracy.append(elastic00001l107.score(X_train, y_train))\n",
    "print(\"Test set accuracy: {:.2f}\".format(elastic00001l107.score(X_test, y_test)))\n",
    "test_accuracy.append(elastic00001l107.score(X_test, y_test))\n",
    "print(\"Number of features used: {}\".format(np.sum(elastic00001l107.coef_ != 0)))"
   ]
  },
  {
   "cell_type": "code",
   "execution_count": 31,
   "metadata": {},
   "outputs": [
    {
     "name": "stdout",
     "output_type": "stream",
     "text": [
      "Training set accuracy: 0.82\n",
      "Test set accuracy: 0.84\n",
      "Number of features used: 12\n"
     ]
    }
   ],
   "source": [
    "#change l1/l2 ratio\n",
    "elastic00001l1 = ElasticNet(alpha=0.0001, normalize=True, l1_ratio=1).fit(X_train, y_train)\n",
    "print(\"Training set accuracy: {:.2f}\".format(elastic00001l1.score(X_train, y_train)))\n",
    "training_accuracy.append(elastic00001l1.score(X_train, y_train))\n",
    "print(\"Test set accuracy: {:.2f}\".format(elastic00001l1.score(X_test, y_test)))\n",
    "test_accuracy.append(elastic00001l1.score(X_test, y_test))\n",
    "print(\"Number of features used: {}\".format(np.sum(elastic00001l1.coef_ != 0)))"
   ]
  },
  {
   "cell_type": "markdown",
   "metadata": {},
   "source": [
    "### plot accuracy change"
   ]
  },
  {
   "cell_type": "code",
   "execution_count": 32,
   "metadata": {},
   "outputs": [
    {
     "data": {
      "text/plain": [
       "<matplotlib.legend.Legend at 0x2ec027b1198>"
      ]
     },
     "execution_count": 32,
     "metadata": {},
     "output_type": "execute_result"
    },
    {
     "data": {
      "image/png": "[encoded data removed]",
      "text/plain": [
       "<Figure size 432x288 with 1 Axes>"
      ]
     },
     "metadata": {},
     "output_type": "display_data"
    }
   ],
   "source": [
    "elastic_settings = [1, 0.01, 0.001, 0.0001, '0.0001 norm']\n",
    "plt.plot(elastic_settings, training_accuracy[:5], label=\"training accuracy\")\n",
    "plt.plot(elastic_settings, test_accuracy[:5], label=\"test accuracy\", linestyle= ':')\n",
    "plt.ylabel(\"Accuracy\")\n",
    "plt.xlabel(\"alpha\")\n",
    "plt.legend()"
   ]
  },
  {
   "cell_type": "code",
   "execution_count": 33,
   "metadata": {},
   "outputs": [
    {
     "data": {
      "text/plain": [
       "<matplotlib.legend.Legend at 0x2ec0280a828>"
      ]
     },
     "execution_count": 33,
     "metadata": {},
     "output_type": "execute_result"
    },
    {
     "data": {
      "image/png": "[encoded data removed]",
      "text/plain": [
       "<Figure size 432x288 with 1 Axes>"
      ]
     },
     "metadata": {},
     "output_type": "display_data"
    }
   ],
   "source": [
    "elastic_settings = [0.1, 0.3, 0.5, 0.7, 1]\n",
    "plt.plot(elastic_settings, training_accuracy[5:], label=\"training accuracy\")\n",
    "plt.plot(elastic_settings, test_accuracy[5:], label=\"test accuracy\", linestyle= ':')\n",
    "plt.ylabel(\"Accuracy\")\n",
    "plt.xlabel(\"L1 ratio\")\n",
    "plt.legend()"
   ]
  },
  {
   "cell_type": "markdown",
   "metadata": {},
   "source": [
    "### plot coefficients for elastic00001l1"
   ]
  },
  {
   "cell_type": "code",
   "execution_count": 34,
   "metadata": {},
   "outputs": [
    {
     "data": {
      "text/plain": [
       "(-10, 10)"
      ]
     },
     "execution_count": 34,
     "metadata": {},
     "output_type": "execute_result"
    },
    {
     "data": {
      "image/png": "[encoded data removed]",
      "text/plain": [
       "<Figure size 432x288 with 1 Axes>"
      ]
     },
     "metadata": {},
     "output_type": "display_data"
    }
   ],
   "source": [
    "plt.plot(elastic00001l1.coef_, 'o', label=\"Elasticnet alpha 0.0001 normalized L1 ratio = 1\")\n",
    "plt.xlabel(\"Coefficient index\")\n",
    "plt.ylabel(\"Coefficient magnitude\")\n",
    "plt.legend(ncol=2, loc=(0, 1.05))\n",
    "plt.ylim(-10, 10) #one feature has a low coefficient magnitude of little less than -600, so it's not visible in this limitation"
   ]
  },
  {
   "cell_type": "code",
   "execution_count": 35,
   "metadata": {},
   "outputs": [
    {
     "data": {
      "text/plain": [
       "<matplotlib.legend.Legend at 0x2ec028a9c18>"
      ]
     },
     "execution_count": 35,
     "metadata": {},
     "output_type": "execute_result"
    },
    {
     "data": {
      "image/png": "[encoded data removed]",
      "text/plain": [
       "<Figure size 432x288 with 1 Axes>"
      ]
     },
     "metadata": {},
     "output_type": "display_data"
    }
   ],
   "source": [
    "plt.plot(elastic00001l1.coef_, 'o', label=\"Elasticnet alpha 0.0001 normalized L1 ratio = 1\")\n",
    "plt.xlabel(\"Coefficient index\")\n",
    "plt.ylabel(\"Coefficient magnitude\")\n",
    "plt.legend(ncol=2, loc=(0, 1.05))"
   ]
  },
  {
   "cell_type": "markdown",
   "metadata": {},
   "source": [
    "### Use binary classification to predict the type of wine."
   ]
  },
  {
   "cell_type": "code",
   "execution_count": 36,
   "metadata": {},
   "outputs": [],
   "source": [
    "X = np.array(df.drop(['type'], 1))\n",
    "y = np.array(df['type'])\n",
    "X_train, X_test, y_train, y_test = train_test_split(X, y)\n",
    "training_accuracy = []\n",
    "test_accuracy = []"
   ]
  },
  {
   "cell_type": "markdown",
   "metadata": {},
   "source": [
    "### As first classifier, we choose LogisticRegression"
   ]
  },
  {
   "cell_type": "code",
   "execution_count": 37,
   "metadata": {},
   "outputs": [
    {
     "name": "stdout",
     "output_type": "stream",
     "text": [
      "Training set accuracy: 0.98\n",
      "Test set accuracy: 0.98\n"
     ]
    }
   ],
   "source": [
    "from sklearn.linear_model import LogisticRegression\n",
    "\n",
    "lr = LogisticRegression().fit(X_train, y_train)\n",
    "print(\"Training set accuracy: {:.2f}\".format(lr.score(X_train, y_train)))\n",
    "print(\"Test set accuracy: {:.2f}\".format(lr.score(X_test, y_test)))"
   ]
  },
  {
   "cell_type": "code",
   "execution_count": 38,
   "metadata": {},
   "outputs": [
    {
     "name": "stdout",
     "output_type": "stream",
     "text": [
      "Training set accuracy: 0.95\n",
      "Test set accuracy: 0.94\n"
     ]
    }
   ],
   "source": [
    "# decrease C\n",
    "lrc001 = LogisticRegression(C=0.01).fit(X_train, y_train)\n",
    "print(\"Training set accuracy: {:.2f}\".format(lrc001.score(X_train, y_train)))\n",
    "training_accuracy.append(lrc001.score(X_train, y_train))\n",
    "print(\"Test set accuracy: {:.2f}\".format(lrc001.score(X_test, y_test)))\n",
    "test_accuracy.append(lrc001.score(X_test, y_test))"
   ]
  },
  {
   "cell_type": "code",
   "execution_count": 39,
   "metadata": {},
   "outputs": [
    {
     "name": "stdout",
     "output_type": "stream",
     "text": [
      "Training set accuracy: 0.97\n",
      "Test set accuracy: 0.96\n"
     ]
    }
   ],
   "source": [
    "# decrease C\n",
    "lrc01 = LogisticRegression(C=0.1).fit(X_train, y_train)\n",
    "print(\"Training set accuracy: {:.2f}\".format(lrc01.score(X_train, y_train)))\n",
    "training_accuracy.append(lrc01.score(X_train, y_train))\n",
    "print(\"Test set accuracy: {:.2f}\".format(lrc01.score(X_test, y_test)))\n",
    "test_accuracy.append(lrc01.score(X_test, y_test))"
   ]
  },
  {
   "cell_type": "code",
   "execution_count": 40,
   "metadata": {},
   "outputs": [
    {
     "name": "stdout",
     "output_type": "stream",
     "text": [
      "Training set accuracy: 0.98\n",
      "Test set accuracy: 0.98\n"
     ]
    }
   ],
   "source": [
    "#add the C=1 accuracy to list for the plot\n",
    "lr = LogisticRegression().fit(X_train, y_train)\n",
    "print(\"Training set accuracy: {:.2f}\".format(lr.score(X_train, y_train)))\n",
    "training_accuracy.append(lr.score(X_train, y_train))\n",
    "print(\"Test set accuracy: {:.2f}\".format(lr.score(X_test, y_test)))\n",
    "test_accuracy.append(lr.score(X_test, y_test))"
   ]
  },
  {
   "cell_type": "code",
   "execution_count": 41,
   "metadata": {},
   "outputs": [
    {
     "name": "stdout",
     "output_type": "stream",
     "text": [
      "Training set accuracy: 0.99\n",
      "Test set accuracy: 0.99\n"
     ]
    }
   ],
   "source": [
    "# increase C\n",
    "lrc10 = LogisticRegression(C=10).fit(X_train, y_train)\n",
    "print(\"Training set accuracy: {:.2f}\".format(lrc10.score(X_train, y_train)))\n",
    "training_accuracy.append(lrc10.score(X_train, y_train))\n",
    "print(\"Test set accuracy: {:.2f}\".format(lrc10.score(X_test, y_test)))\n",
    "test_accuracy.append(lrc10.score(X_test, y_test))"
   ]
  },
  {
   "cell_type": "code",
   "execution_count": 42,
   "metadata": {},
   "outputs": [
    {
     "name": "stdout",
     "output_type": "stream",
     "text": [
      "Training set accuracy: 0.99\n",
      "Test set accuracy: 0.99\n"
     ]
    }
   ],
   "source": [
    "# increase C\n",
    "lrc100 = LogisticRegression(C=100).fit(X_train, y_train)\n",
    "print(\"Training set accuracy: {:.2f}\".format(lrc100.score(X_train, y_train)))\n",
    "training_accuracy.append(lrc100.score(X_train, y_train))\n",
    "print(\"Test set accuracy: {:.2f}\".format(lrc100.score(X_test, y_test)))\n",
    "test_accuracy.append(lrc100.score(X_test, y_test))"
   ]
  },
  {
   "cell_type": "code",
   "execution_count": 43,
   "metadata": {},
   "outputs": [
    {
     "name": "stdout",
     "output_type": "stream",
     "text": [
      "Training set accuracy: 0.99\n",
      "Test set accuracy: 0.99\n"
     ]
    }
   ],
   "source": [
    "# use l1 regularization \n",
    "lrregl1 = LogisticRegression(penalty='l1').fit(X_train, y_train)\n",
    "print(\"Training set accuracy: {:.2f}\".format(lrregl1.score(X_train, y_train)))\n",
    "print(\"Test set accuracy: {:.2f}\".format(lrregl1.score(X_test, y_test)))"
   ]
  },
  {
   "cell_type": "code",
   "execution_count": 44,
   "metadata": {},
   "outputs": [
    {
     "name": "stdout",
     "output_type": "stream",
     "text": [
      "Training set accuracy: 0.97\n",
      "Test set accuracy: 0.96\n"
     ]
    }
   ],
   "source": [
    "#use new lists for solver accuracies\n",
    "training_accuracy2 = []\n",
    "test_accuracy2 = []\n",
    "\n",
    "# use saga\n",
    "lrsolversaga = LogisticRegression(penalty='l1', solver='saga', max_iter=10000).fit(X_train, y_train)\n",
    "print(\"Training set accuracy: {:.2f}\".format(lrsolversaga.score(X_train, y_train)))\n",
    "training_accuracy2.append(lrsolversaga.score(X_train, y_train))\n",
    "print(\"Test set accuracy: {:.2f}\".format(lrsolversaga.score(X_test, y_test)))\n",
    "test_accuracy2.append(lrsolversaga.score(X_test, y_test))"
   ]
  },
  {
   "cell_type": "code",
   "execution_count": 45,
   "metadata": {},
   "outputs": [
    {
     "name": "stdout",
     "output_type": "stream",
     "text": [
      "Training set accuracy: 0.99\n",
      "Test set accuracy: 0.98\n"
     ]
    }
   ],
   "source": [
    "# use newton-cg\n",
    "lrsolvernewton = LogisticRegression(solver='newton-cg').fit(X_train, y_train)\n",
    "print(\"Training set accuracy: {:.2f}\".format(lrsolvernewton.score(X_train, y_train)))\n",
    "training_accuracy2.append(lrsolvernewton.score(X_train, y_train))\n",
    "print(\"Test set accuracy: {:.2f}\".format(lrsolvernewton.score(X_test, y_test)))\n",
    "test_accuracy2.append(lrsolvernewton.score(X_test, y_test))"
   ]
  },
  {
   "cell_type": "code",
   "execution_count": 46,
   "metadata": {},
   "outputs": [
    {
     "name": "stdout",
     "output_type": "stream",
     "text": [
      "Training set accuracy: 0.97\n",
      "Test set accuracy: 0.96\n"
     ]
    }
   ],
   "source": [
    "# use sag\n",
    "lrsolversag = LogisticRegression(solver='sag', max_iter=10000).fit(X_train, y_train)\n",
    "print(\"Training set accuracy: {:.2f}\".format(lrsolversag.score(X_train, y_train)))\n",
    "training_accuracy2.append(lrsolversag.score(X_train, y_train))\n",
    "print(\"Test set accuracy: {:.2f}\".format(lrsolversag.score(X_test, y_test)))\n",
    "test_accuracy2.append(lrsolversag.score(X_test, y_test))"
   ]
  },
  {
   "cell_type": "code",
   "execution_count": 47,
   "metadata": {},
   "outputs": [
    {
     "name": "stdout",
     "output_type": "stream",
     "text": [
      "Training set accuracy: 0.98\n",
      "Test set accuracy: 0.98\n"
     ]
    }
   ],
   "source": [
    "# use lbfgs\n",
    "lrsolverlbfgs = LogisticRegression(solver='lbfgs').fit(X_train, y_train)\n",
    "print(\"Training set accuracy: {:.2f}\".format(lrsolverlbfgs.score(X_train, y_train)))\n",
    "training_accuracy2.append(lrsolverlbfgs.score(X_train, y_train))\n",
    "print(\"Test set accuracy: {:.2f}\".format(lrsolverlbfgs.score(X_test, y_test)))\n",
    "test_accuracy2.append(lrsolverlbfgs.score(X_test, y_test))"
   ]
  },
  {
   "cell_type": "code",
   "execution_count": 48,
   "metadata": {},
   "outputs": [
    {
     "name": "stdout",
     "output_type": "stream",
     "text": [
      "Training set accuracy: 0.98\n",
      "Test set accuracy: 0.98\n"
     ]
    }
   ],
   "source": [
    "# use liblinear\n",
    "lrsolverlbfgs = LogisticRegression(solver='liblinear').fit(X_train, y_train)\n",
    "print(\"Training set accuracy: {:.2f}\".format(lrsolverlbfgs.score(X_train, y_train)))\n",
    "training_accuracy2.append(lrsolverlbfgs.score(X_train, y_train))\n",
    "print(\"Test set accuracy: {:.2f}\".format(lrsolverlbfgs.score(X_test, y_test)))\n",
    "test_accuracy2.append(lrsolverlbfgs.score(X_test, y_test))"
   ]
  },
  {
   "cell_type": "code",
   "execution_count": 49,
   "metadata": {},
   "outputs": [
    {
     "name": "stdout",
     "output_type": "stream",
     "text": [
      "Training set accuracy: 0.98\n",
      "Test set accuracy: 0.97\n"
     ]
    }
   ],
   "source": [
    "# change class balance\n",
    "lrbalanced = LogisticRegression(class_weight='balanced').fit(X_train, y_train)\n",
    "print(\"Training set accuracy: {:.2f}\".format(lrbalanced.score(X_train, y_train)))\n",
    "print(\"Test set accuracy: {:.2f}\".format(lrbalanced.score(X_test, y_test)))"
   ]
  },
  {
   "cell_type": "markdown",
   "metadata": {},
   "source": [
    "### plot accuracy change"
   ]
  },
  {
   "cell_type": "code",
   "execution_count": 50,
   "metadata": {},
   "outputs": [
    {
     "data": {
      "text/plain": [
       "<matplotlib.legend.Legend at 0x2ec0294acf8>"
      ]
     },
     "execution_count": 50,
     "metadata": {},
     "output_type": "execute_result"
    },
    {
     "data": {
      "image/png": "[encoded data removed]",
      "text/plain": [
       "<Figure size 432x288 with 1 Axes>"
      ]
     },
     "metadata": {},
     "output_type": "display_data"
    }
   ],
   "source": [
    "lr_settings = [0.01, 0.1, 1, 10, 100]\n",
    "\n",
    "plt.plot(lr_settings, training_accuracy, label=\"training accuracy\")\n",
    "plt.plot(lr_settings, test_accuracy, label=\"test accuracy\", linestyle= ':')\n",
    "plt.ylabel(\"Accuracy\")\n",
    "plt.xlabel(\"C value\")\n",
    "plt.legend()"
   ]
  },
  {
   "cell_type": "code",
   "execution_count": 51,
   "metadata": {},
   "outputs": [
    {
     "data": {
      "text/plain": [
       "<matplotlib.legend.Legend at 0x2ec029b39e8>"
      ]
     },
     "execution_count": 51,
     "metadata": {},
     "output_type": "execute_result"
    },
    {
     "data": {
      "image/png": "[encoded data removed]",
      "text/plain": [
       "<Figure size 432x288 with 1 Axes>"
      ]
     },
     "metadata": {},
     "output_type": "display_data"
    }
   ],
   "source": [
    "lr_settings = ['saga', 'newton-cg', 'sag', 'lbfgs', 'liblinear']\n",
    "\n",
    "plt.plot(lr_settings, training_accuracy2, label=\"training accuracy\")\n",
    "plt.plot(lr_settings, test_accuracy2, label=\"test accuracy\", linestyle= ':')\n",
    "plt.ylabel(\"Accuracy\")\n",
    "plt.xlabel(\"solver\")\n",
    "plt.legend()"
   ]
  },
  {
   "cell_type": "markdown",
   "metadata": {},
   "source": [
    "### plot coefficients for lrc100"
   ]
  },
  {
   "cell_type": "code",
   "execution_count": 52,
   "metadata": {},
   "outputs": [],
   "source": [
    "names = list(df.drop(['type'], 1))"
   ]
  },
  {
   "cell_type": "code",
   "execution_count": 53,
   "metadata": {},
   "outputs": [
    {
     "data": {
      "text/plain": [
       "<matplotlib.legend.Legend at 0x2ec02a2c2e8>"
      ]
     },
     "execution_count": 53,
     "metadata": {},
     "output_type": "execute_result"
    },
    {
     "data": {
      "image/png": "[encoded data removed]",
      "text/plain": [
       "<Figure size 432x288 with 1 Axes>"
      ]
     },
     "metadata": {},
     "output_type": "display_data"
    }
   ],
   "source": [
    "plt.plot(lrc100.coef_.T, 'o', label=\"Logistic regression C=100\")\n",
    "\n",
    "plt.xticks(range(len(names)), names, rotation=90)\n",
    "plt.hlines(0, 0, range(len(names)))\n",
    "list(df.drop(['type'], 1))\n",
    "plt.xlabel(\"Coefficient index\")\n",
    "plt.ylabel(\"Coefficient magnitude\")\n",
    "plt.legend(ncol=2, loc=(0, 1.05))"
   ]
  },
  {
   "cell_type": "markdown",
   "metadata": {},
   "source": [
    "### As second classifier, we choose Decision Tree"
   ]
  },
  {
   "cell_type": "code",
   "execution_count": 54,
   "metadata": {},
   "outputs": [
    {
     "name": "stdout",
     "output_type": "stream",
     "text": [
      "Accuracy on training set: 1.000\n",
      "Accuracy on test set: 0.984\n"
     ]
    }
   ],
   "source": [
    "from sklearn.tree import DecisionTreeClassifier\n",
    "\n",
    "X = np.array(df.drop(['type'], 1))\n",
    "y = np.array(df['type'])\n",
    "X_train, X_test, y_train, y_test = train_test_split(X, y)\n",
    "training_accuracy = []\n",
    "test_accuracy = []\n",
    "\n",
    "tree = DecisionTreeClassifier(random_state=0)\n",
    "tree.fit(X_train, y_train)\n",
    "\n",
    "print(\"Accuracy on training set: {:.3f}\".format(tree.score(X_train, y_train)))\n",
    "print(\"Accuracy on test set: {:.3f}\".format(tree.score(X_test, y_test)))"
   ]
  },
  {
   "cell_type": "code",
   "execution_count": 55,
   "metadata": {},
   "outputs": [
    {
     "name": "stdout",
     "output_type": "stream",
     "text": [
      "Accuracy on training set: 0.998\n",
      "Accuracy on test set: 0.985\n"
     ]
    }
   ],
   "source": [
    "tree10 = DecisionTreeClassifier(max_depth=10, random_state=0)\n",
    "tree10.fit(X_train, y_train)\n",
    "print(\"Accuracy on training set: {:.3f}\".format(tree10.score(X_train, y_train)))\n",
    "training_accuracy.append(tree10.score(X_train, y_train))\n",
    "print(\"Accuracy on test set: {:.3f}\".format(tree10.score(X_test, y_test)))\n",
    "test_accuracy.append(tree10.score(X_test, y_test))"
   ]
  },
  {
   "cell_type": "code",
   "execution_count": 56,
   "metadata": {},
   "outputs": [
    {
     "name": "stdout",
     "output_type": "stream",
     "text": [
      "Accuracy on training set: 0.996\n",
      "Accuracy on test set: 0.983\n"
     ]
    }
   ],
   "source": [
    "tree8 = DecisionTreeClassifier(max_depth=8, random_state=0)\n",
    "tree8.fit(X_train, y_train)\n",
    "print(\"Accuracy on training set: {:.3f}\".format(tree8.score(X_train, y_train)))\n",
    "training_accuracy.append(tree8.score(X_train, y_train))\n",
    "print(\"Accuracy on test set: {:.3f}\".format(tree8.score(X_test, y_test)))\n",
    "test_accuracy.append(tree8.score(X_test, y_test))"
   ]
  },
  {
   "cell_type": "code",
   "execution_count": 57,
   "metadata": {},
   "outputs": [
    {
     "name": "stdout",
     "output_type": "stream",
     "text": [
      "Accuracy on training set: 0.994\n",
      "Accuracy on test set: 0.980\n"
     ]
    }
   ],
   "source": [
    "tree6 = DecisionTreeClassifier(max_depth=6, random_state=0)\n",
    "tree6.fit(X_train, y_train)\n",
    "print(\"Accuracy on training set: {:.3f}\".format(tree6.score(X_train, y_train)))\n",
    "training_accuracy.append(tree6.score(X_train, y_train))\n",
    "print(\"Accuracy on test set: {:.3f}\".format(tree6.score(X_test, y_test)))\n",
    "test_accuracy.append(tree6.score(X_test, y_test))"
   ]
  },
  {
   "cell_type": "code",
   "execution_count": 58,
   "metadata": {},
   "outputs": [
    {
     "name": "stdout",
     "output_type": "stream",
     "text": [
      "Accuracy on training set: 0.988\n",
      "Accuracy on test set: 0.977\n"
     ]
    }
   ],
   "source": [
    "tree4 = DecisionTreeClassifier(max_depth=4, random_state=0)\n",
    "tree4.fit(X_train, y_train)\n",
    "print(\"Accuracy on training set: {:.3f}\".format(tree4.score(X_train, y_train)))\n",
    "training_accuracy.append(tree6.score(X_train, y_train))\n",
    "print(\"Accuracy on test set: {:.3f}\".format(tree4.score(X_test, y_test)))\n",
    "test_accuracy.append(tree6.score(X_test, y_test))"
   ]
  },
  {
   "cell_type": "code",
   "execution_count": 59,
   "metadata": {},
   "outputs": [
    {
     "name": "stdout",
     "output_type": "stream",
     "text": [
      "Accuracy on training set: 0.956\n",
      "Accuracy on test set: 0.953\n"
     ]
    }
   ],
   "source": [
    "tree2 = DecisionTreeClassifier(max_depth=2, random_state=0)\n",
    "tree2.fit(X_train, y_train)\n",
    "print(\"Accuracy on training set: {:.3f}\".format(tree2.score(X_train, y_train)))\n",
    "training_accuracy.append(tree2.score(X_train, y_train))\n",
    "print(\"Accuracy on test set: {:.3f}\".format(tree2.score(X_test, y_test)))\n",
    "test_accuracy.append(tree2.score(X_test, y_test))"
   ]
  },
  {
   "cell_type": "code",
   "execution_count": 60,
   "metadata": {},
   "outputs": [
    {
     "name": "stdout",
     "output_type": "stream",
     "text": [
      "Accuracy on training set: 0.988\n",
      "Accuracy on test set: 0.976\n"
     ]
    }
   ],
   "source": [
    "training_accuracy2 = []\n",
    "test_accuracy2 = []\n",
    "\n",
    "treenode12 = DecisionTreeClassifier(max_leaf_nodes=12, random_state=0)\n",
    "treenode12.fit(X_train, y_train)\n",
    "print(\"Accuracy on training set: {:.3f}\".format(treenode12.score(X_train, y_train)))\n",
    "training_accuracy2.append(treenode12.score(X_train, y_train))\n",
    "print(\"Accuracy on test set: {:.3f}\".format(treenode12.score(X_test, y_test)))\n",
    "test_accuracy2.append(treenode12.score(X_test, y_test))"
   ]
  },
  {
   "cell_type": "code",
   "execution_count": 61,
   "metadata": {},
   "outputs": [
    {
     "name": "stdout",
     "output_type": "stream",
     "text": [
      "Accuracy on training set: 0.987\n",
      "Accuracy on test set: 0.977\n"
     ]
    }
   ],
   "source": [
    "treenode10 = DecisionTreeClassifier(max_leaf_nodes=10, random_state=0)\n",
    "treenode10.fit(X_train, y_train)\n",
    "print(\"Accuracy on training set: {:.3f}\".format(treenode10.score(X_train, y_train)))\n",
    "training_accuracy2.append(treenode10.score(X_train, y_train))\n",
    "print(\"Accuracy on test set: {:.3f}\".format(treenode10.score(X_test, y_test)))\n",
    "test_accuracy2.append(treenode10.score(X_test, y_test))"
   ]
  },
  {
   "cell_type": "code",
   "execution_count": 62,
   "metadata": {},
   "outputs": [
    {
     "name": "stdout",
     "output_type": "stream",
     "text": [
      "Accuracy on training set: 0.986\n",
      "Accuracy on test set: 0.977\n"
     ]
    }
   ],
   "source": [
    "treenode8 = DecisionTreeClassifier(max_leaf_nodes=8, random_state=0)\n",
    "treenode8.fit(X_train, y_train)\n",
    "print(\"Accuracy on training set: {:.3f}\".format(treenode8.score(X_train, y_train)))\n",
    "training_accuracy2.append(treenode8.score(X_train, y_train))\n",
    "print(\"Accuracy on test set: {:.3f}\".format(treenode8.score(X_test, y_test)))\n",
    "test_accuracy2.append(treenode8.score(X_test, y_test))"
   ]
  },
  {
   "cell_type": "code",
   "execution_count": 63,
   "metadata": {},
   "outputs": [
    {
     "name": "stdout",
     "output_type": "stream",
     "text": [
      "Accuracy on training set: 0.984\n",
      "Accuracy on test set: 0.975\n"
     ]
    }
   ],
   "source": [
    "treenode6 = DecisionTreeClassifier(max_leaf_nodes=6, random_state=0)\n",
    "treenode6.fit(X_train, y_train)\n",
    "print(\"Accuracy on training set: {:.3f}\".format(treenode6.score(X_train, y_train)))\n",
    "training_accuracy2.append(treenode6.score(X_train, y_train))\n",
    "print(\"Accuracy on test set: {:.3f}\".format(treenode6.score(X_test, y_test)))\n",
    "test_accuracy2.append(treenode6.score(X_test, y_test))"
   ]
  },
  {
   "cell_type": "code",
   "execution_count": 64,
   "metadata": {},
   "outputs": [
    {
     "name": "stdout",
     "output_type": "stream",
     "text": [
      "Accuracy on training set: 0.956\n",
      "Accuracy on test set: 0.953\n"
     ]
    }
   ],
   "source": [
    "treenode4 = DecisionTreeClassifier(max_leaf_nodes=4, random_state=0)\n",
    "treenode4.fit(X_train, y_train)\n",
    "print(\"Accuracy on training set: {:.3f}\".format(treenode4.score(X_train, y_train)))\n",
    "training_accuracy2.append(treenode4.score(X_train, y_train))\n",
    "print(\"Accuracy on test set: {:.3f}\".format(treenode4.score(X_test, y_test)))\n",
    "test_accuracy2.append(treenode4.score(X_test, y_test))"
   ]
  },
  {
   "cell_type": "markdown",
   "metadata": {},
   "source": [
    "### plot accuracy"
   ]
  },
  {
   "cell_type": "code",
   "execution_count": 65,
   "metadata": {},
   "outputs": [
    {
     "data": {
      "text/plain": [
       "<matplotlib.legend.Legend at 0x2ec02874668>"
      ]
     },
     "execution_count": 65,
     "metadata": {},
     "output_type": "execute_result"
    },
    {
     "data": {
      "image/png": "[encoded data removed]",
      "text/plain": [
       "<Figure size 432x288 with 1 Axes>"
      ]
     },
     "metadata": {},
     "output_type": "display_data"
    }
   ],
   "source": [
    "tree_settings = [10, 8, 6, 4, 2]\n",
    "\n",
    "plt.plot(tree_settings, training_accuracy, label=\"training accuracy\")\n",
    "plt.plot(tree_settings, test_accuracy, label=\"test accuracy\", linestyle= ':')\n",
    "plt.ylabel(\"Accuracy\")\n",
    "plt.xlabel(\"max depth\")\n",
    "plt.legend()"
   ]
  },
  {
   "cell_type": "code",
   "execution_count": 66,
   "metadata": {},
   "outputs": [
    {
     "data": {
      "text/plain": [
       "<matplotlib.legend.Legend at 0x2ec026ed2b0>"
      ]
     },
     "execution_count": 66,
     "metadata": {},
     "output_type": "execute_result"
    },
    {
     "data": {
      "image/png": "[encoded data removed]",
      "text/plain": [
       "<Figure size 432x288 with 1 Axes>"
      ]
     },
     "metadata": {},
     "output_type": "display_data"
    }
   ],
   "source": [
    "tree_settings = [12, 10, 8, 6, 4]\n",
    "\n",
    "plt.plot(tree_settings, training_accuracy, label=\"training accuracy\")\n",
    "plt.plot(tree_settings, test_accuracy, label=\"test accuracy\", linestyle= ':')\n",
    "plt.ylabel(\"Accuracy\")\n",
    "plt.xlabel(\"max leaf nodes\")\n",
    "plt.legend()"
   ]
  },
  {
   "cell_type": "markdown",
   "metadata": {},
   "source": [
    "### let's plot tree4 with max_depth 4 as our best choice"
   ]
  },
  {
   "cell_type": "code",
   "execution_count": 67,
   "metadata": {},
   "outputs": [],
   "source": [
    "from sklearn.tree import export_graphviz\n",
    "\n",
    "export_graphviz(tree4, out_file=\"tree.dot\", class_names=[\"White\", \"Red\"],\n",
    "feature_names=names, impurity=False, filled=True)"
   ]
  },
  {
   "cell_type": "code",
   "execution_count": 68,
   "metadata": {},
   "outputs": [
    {
     "data": {
      "image/svg+xml": [
       "<?xml version=\"1.0\" encoding=\"UTF-8\" standalone=\"no\"?>\r\n",
       "<!DOCTYPE svg PUBLIC \"-//W3C//DTD SVG 1.1//EN\"\r\n",
       " \"http://www.w3.org/Graphics/SVG/1.1/DTD/svg11.dtd\">\r\n",
       "<!-- Generated by graphviz version 2.38.0 (20140413.2041)\r\n",
       " -->\r\n",
       "<!-- Title: Tree Pages: 1 -->\r\n",
       "<svg width=\"1609pt\" height=\"477pt\"\r\n",
       " viewBox=\"0.00 0.00 1609.00 477.00\" xmlns=\"http://www.w3.org/2000/svg\" xmlns:xlink=\"http://www.w3.org/1999/xlink\">\r\n",
       "<g id=\"graph0\" class=\"graph\" transform=\"scale(1 1) rotate(0) translate(4 473)\">\r\n",
       "<title>Tree</title>\r\n",
       "<polygon fill=\"white\" stroke=\"none\" points=\"-4,4 -4,-473 1605,-473 1605,4 -4,4\"/>\r\n",
       "<!-- 0 -->\r\n",
       "<g id=\"node1\" class=\"node\"><title>0</title>\r\n",
       "<polygon fill=\"#e58139\" fill-opacity=\"0.674510\" stroke=\"black\" points=\"784.5,-469 615.5,-469 615.5,-401 784.5,-401 784.5,-469\"/>\r\n",
       "<text text-anchor=\"middle\" x=\"700\" y=\"-453.8\" font-family=\"Times New Roman,serif\" font-size=\"14.00\">total sulfur dioxide &lt;= 66.5</text>\r\n",
       "<text text-anchor=\"middle\" x=\"700\" y=\"-438.8\" font-family=\"Times New Roman,serif\" font-size=\"14.00\">samples = 4872</text>\r\n",
       "<text text-anchor=\"middle\" x=\"700\" y=\"-423.8\" font-family=\"Times New Roman,serif\" font-size=\"14.00\">value = [3681, 1191]</text>\r\n",
       "<text text-anchor=\"middle\" x=\"700\" y=\"-408.8\" font-family=\"Times New Roman,serif\" font-size=\"14.00\">class = White</text>\r\n",
       "</g>\r\n",
       "<!-- 1 -->\r\n",
       "<g id=\"node2\" class=\"node\"><title>1</title>\r\n",
       "<polygon fill=\"#399de5\" fill-opacity=\"0.901961\" stroke=\"black\" points=\"593,-365 471,-365 471,-297 593,-297 593,-365\"/>\r\n",
       "<text text-anchor=\"middle\" x=\"532\" y=\"-349.8\" font-family=\"Times New Roman,serif\" font-size=\"14.00\">chlorides &lt;= 0.046</text>\r\n",
       "<text text-anchor=\"middle\" x=\"532\" y=\"-334.8\" font-family=\"Times New Roman,serif\" font-size=\"14.00\">samples = 1035</text>\r\n",
       "<text text-anchor=\"middle\" x=\"532\" y=\"-319.8\" font-family=\"Times New Roman,serif\" font-size=\"14.00\">value = [93, 942]</text>\r\n",
       "<text text-anchor=\"middle\" x=\"532\" y=\"-304.8\" font-family=\"Times New Roman,serif\" font-size=\"14.00\">class = Red</text>\r\n",
       "</g>\r\n",
       "<!-- 0&#45;&gt;1 -->\r\n",
       "<g id=\"edge1\" class=\"edge\"><title>0&#45;&gt;1</title>\r\n",
       "<path fill=\"none\" stroke=\"black\" d=\"M645.455,-400.884C629.53,-391.214 611.987,-380.563 595.555,-370.587\"/>\r\n",
       "<polygon fill=\"black\" stroke=\"black\" points=\"596.923,-367.323 586.558,-365.125 593.29,-373.306 596.923,-367.323\"/>\r\n",
       "<text text-anchor=\"middle\" x=\"592.495\" y=\"-385.71\" font-family=\"Times New Roman,serif\" font-size=\"14.00\">True</text>\r\n",
       "</g>\r\n",
       "<!-- 14 -->\r\n",
       "<g id=\"node15\" class=\"node\"><title>14</title>\r\n",
       "<polygon fill=\"#e58139\" fill-opacity=\"0.929412\" stroke=\"black\" points=\"980.5,-365 855.5,-365 855.5,-297 980.5,-297 980.5,-365\"/>\r\n",
       "<text text-anchor=\"middle\" x=\"918\" y=\"-349.8\" font-family=\"Times New Roman,serif\" font-size=\"14.00\">chlorides &lt;= 0.069</text>\r\n",
       "<text text-anchor=\"middle\" x=\"918\" y=\"-334.8\" font-family=\"Times New Roman,serif\" font-size=\"14.00\">samples = 3837</text>\r\n",
       "<text text-anchor=\"middle\" x=\"918\" y=\"-319.8\" font-family=\"Times New Roman,serif\" font-size=\"14.00\">value = [3588, 249]</text>\r\n",
       "<text text-anchor=\"middle\" x=\"918\" y=\"-304.8\" font-family=\"Times New Roman,serif\" font-size=\"14.00\">class = White</text>\r\n",
       "</g>\r\n",
       "<!-- 0&#45;&gt;14 -->\r\n",
       "<g id=\"edge14\" class=\"edge\"><title>0&#45;&gt;14</title>\r\n",
       "<path fill=\"none\" stroke=\"black\" d=\"M770.778,-400.884C794.921,-389.587 821.929,-376.951 846.155,-365.616\"/>\r\n",
       "<polygon fill=\"black\" stroke=\"black\" points=\"847.717,-368.749 855.291,-361.341 844.751,-362.409 847.717,-368.749\"/>\r\n",
       "<text text-anchor=\"middle\" x=\"846.772\" y=\"-381.144\" font-family=\"Times New Roman,serif\" font-size=\"14.00\">False</text>\r\n",
       "</g>\r\n",
       "<!-- 2 -->\r\n",
       "<g id=\"node3\" class=\"node\"><title>2</title>\r\n",
       "<polygon fill=\"#e58139\" fill-opacity=\"0.850980\" stroke=\"black\" points=\"353.5,-261 242.5,-261 242.5,-193 353.5,-193 353.5,-261\"/>\r\n",
       "<text text-anchor=\"middle\" x=\"298\" y=\"-245.8\" font-family=\"Times New Roman,serif\" font-size=\"14.00\">density &lt;= 0.995</text>\r\n",
       "<text text-anchor=\"middle\" x=\"298\" y=\"-230.8\" font-family=\"Times New Roman,serif\" font-size=\"14.00\">samples = 92</text>\r\n",
       "<text text-anchor=\"middle\" x=\"298\" y=\"-215.8\" font-family=\"Times New Roman,serif\" font-size=\"14.00\">value = [80, 12]</text>\r\n",
       "<text text-anchor=\"middle\" x=\"298\" y=\"-200.8\" font-family=\"Times New Roman,serif\" font-size=\"14.00\">class = White</text>\r\n",
       "</g>\r\n",
       "<!-- 1&#45;&gt;2 -->\r\n",
       "<g id=\"edge2\" class=\"edge\"><title>1&#45;&gt;2</title>\r\n",
       "<path fill=\"none\" stroke=\"black\" d=\"M470.825,-303.334C437.653,-288.874 396.66,-271.006 362.925,-256.301\"/>\r\n",
       "<polygon fill=\"black\" stroke=\"black\" points=\"364.18,-253.03 353.615,-252.242 361.383,-259.447 364.18,-253.03\"/>\r\n",
       "</g>\r\n",
       "<!-- 9 -->\r\n",
       "<g id=\"node10\" class=\"node\"><title>9</title>\r\n",
       "<polygon fill=\"#399de5\" fill-opacity=\"0.984314\" stroke=\"black\" points=\"587.5,-261 476.5,-261 476.5,-193 587.5,-193 587.5,-261\"/>\r\n",
       "<text text-anchor=\"middle\" x=\"532\" y=\"-245.8\" font-family=\"Times New Roman,serif\" font-size=\"14.00\">density &lt;= 0.991</text>\r\n",
       "<text text-anchor=\"middle\" x=\"532\" y=\"-230.8\" font-family=\"Times New Roman,serif\" font-size=\"14.00\">samples = 943</text>\r\n",
       "<text text-anchor=\"middle\" x=\"532\" y=\"-215.8\" font-family=\"Times New Roman,serif\" font-size=\"14.00\">value = [13, 930]</text>\r\n",
       "<text text-anchor=\"middle\" x=\"532\" y=\"-200.8\" font-family=\"Times New Roman,serif\" font-size=\"14.00\">class = Red</text>\r\n",
       "</g>\r\n",
       "<!-- 1&#45;&gt;9 -->\r\n",
       "<g id=\"edge9\" class=\"edge\"><title>1&#45;&gt;9</title>\r\n",
       "<path fill=\"none\" stroke=\"black\" d=\"M532,-296.884C532,-288.778 532,-279.982 532,-271.472\"/>\r\n",
       "<polygon fill=\"black\" stroke=\"black\" points=\"535.5,-271.299 532,-261.299 528.5,-271.299 535.5,-271.299\"/>\r\n",
       "</g>\r\n",
       "<!-- 3 -->\r\n",
       "<g id=\"node4\" class=\"node\"><title>3</title>\r\n",
       "<polygon fill=\"#e58139\" fill-opacity=\"0.933333\" stroke=\"black\" points=\"211,-157 113,-157 113,-89 211,-89 211,-157\"/>\r\n",
       "<text text-anchor=\"middle\" x=\"162\" y=\"-141.8\" font-family=\"Times New Roman,serif\" font-size=\"14.00\">pH &lt;= 3.755</text>\r\n",
       "<text text-anchor=\"middle\" x=\"162\" y=\"-126.8\" font-family=\"Times New Roman,serif\" font-size=\"14.00\">samples = 82</text>\r\n",
       "<text text-anchor=\"middle\" x=\"162\" y=\"-111.8\" font-family=\"Times New Roman,serif\" font-size=\"14.00\">value = [77, 5]</text>\r\n",
       "<text text-anchor=\"middle\" x=\"162\" y=\"-96.8\" font-family=\"Times New Roman,serif\" font-size=\"14.00\">class = White</text>\r\n",
       "</g>\r\n",
       "<!-- 2&#45;&gt;3 -->\r\n",
       "<g id=\"edge3\" class=\"edge\"><title>2&#45;&gt;3</title>\r\n",
       "<path fill=\"none\" stroke=\"black\" d=\"M253.845,-192.884C241.374,-183.531 227.679,-173.259 214.758,-163.568\"/>\r\n",
       "<polygon fill=\"black\" stroke=\"black\" points=\"216.499,-160.499 206.399,-157.299 212.299,-166.099 216.499,-160.499\"/>\r\n",
       "</g>\r\n",
       "<!-- 6 -->\r\n",
       "<g id=\"node7\" class=\"node\"><title>6</title>\r\n",
       "<polygon fill=\"#399de5\" fill-opacity=\"0.572549\" stroke=\"black\" points=\"343.5,-157 252.5,-157 252.5,-89 343.5,-89 343.5,-157\"/>\r\n",
       "<text text-anchor=\"middle\" x=\"298\" y=\"-141.8\" font-family=\"Times New Roman,serif\" font-size=\"14.00\">pH &lt;= 3.185</text>\r\n",
       "<text text-anchor=\"middle\" x=\"298\" y=\"-126.8\" font-family=\"Times New Roman,serif\" font-size=\"14.00\">samples = 10</text>\r\n",
       "<text text-anchor=\"middle\" x=\"298\" y=\"-111.8\" font-family=\"Times New Roman,serif\" font-size=\"14.00\">value = [3, 7]</text>\r\n",
       "<text text-anchor=\"middle\" x=\"298\" y=\"-96.8\" font-family=\"Times New Roman,serif\" font-size=\"14.00\">class = Red</text>\r\n",
       "</g>\r\n",
       "<!-- 2&#45;&gt;6 -->\r\n",
       "<g id=\"edge6\" class=\"edge\"><title>2&#45;&gt;6</title>\r\n",
       "<path fill=\"none\" stroke=\"black\" d=\"M298,-192.884C298,-184.778 298,-175.982 298,-167.472\"/>\r\n",
       "<polygon fill=\"black\" stroke=\"black\" points=\"301.5,-167.299 298,-157.299 294.5,-167.299 301.5,-167.299\"/>\r\n",
       "</g>\r\n",
       "<!-- 4 -->\r\n",
       "<g id=\"node5\" class=\"node\"><title>4</title>\r\n",
       "<polygon fill=\"#e58139\" fill-opacity=\"0.960784\" stroke=\"black\" points=\"98,-53 0,-53 0,-0 98,-0 98,-53\"/>\r\n",
       "<text text-anchor=\"middle\" x=\"49\" y=\"-37.8\" font-family=\"Times New Roman,serif\" font-size=\"14.00\">samples = 80</text>\r\n",
       "<text text-anchor=\"middle\" x=\"49\" y=\"-22.8\" font-family=\"Times New Roman,serif\" font-size=\"14.00\">value = [77, 3]</text>\r\n",
       "<text text-anchor=\"middle\" x=\"49\" y=\"-7.8\" font-family=\"Times New Roman,serif\" font-size=\"14.00\">class = White</text>\r\n",
       "</g>\r\n",
       "<!-- 3&#45;&gt;4 -->\r\n",
       "<g id=\"edge4\" class=\"edge\"><title>3&#45;&gt;4</title>\r\n",
       "<path fill=\"none\" stroke=\"black\" d=\"M122.478,-88.9485C111.211,-79.526 98.951,-69.2731 87.7316,-59.8906\"/>\r\n",
       "<polygon fill=\"black\" stroke=\"black\" points=\"89.6915,-56.967 79.7751,-53.2367 85.2009,-62.3368 89.6915,-56.967\"/>\r\n",
       "</g>\r\n",
       "<!-- 5 -->\r\n",
       "<g id=\"node6\" class=\"node\"><title>5</title>\r\n",
       "<polygon fill=\"#399de5\" stroke=\"black\" points=\"207.5,-53 116.5,-53 116.5,-0 207.5,-0 207.5,-53\"/>\r\n",
       "<text text-anchor=\"middle\" x=\"162\" y=\"-37.8\" font-family=\"Times New Roman,serif\" font-size=\"14.00\">samples = 2</text>\r\n",
       "<text text-anchor=\"middle\" x=\"162\" y=\"-22.8\" font-family=\"Times New Roman,serif\" font-size=\"14.00\">value = [0, 2]</text>\r\n",
       "<text text-anchor=\"middle\" x=\"162\" y=\"-7.8\" font-family=\"Times New Roman,serif\" font-size=\"14.00\">class = Red</text>\r\n",
       "</g>\r\n",
       "<!-- 3&#45;&gt;5 -->\r\n",
       "<g id=\"edge5\" class=\"edge\"><title>3&#45;&gt;5</title>\r\n",
       "<path fill=\"none\" stroke=\"black\" d=\"M162,-88.9485C162,-80.7153 162,-71.848 162,-63.4814\"/>\r\n",
       "<polygon fill=\"black\" stroke=\"black\" points=\"165.5,-63.2367 162,-53.2367 158.5,-63.2367 165.5,-63.2367\"/>\r\n",
       "</g>\r\n",
       "<!-- 7 -->\r\n",
       "<g id=\"node8\" class=\"node\"><title>7</title>\r\n",
       "<polygon fill=\"#e58139\" stroke=\"black\" points=\"318.5,-53 225.5,-53 225.5,-0 318.5,-0 318.5,-53\"/>\r\n",
       "<text text-anchor=\"middle\" x=\"272\" y=\"-37.8\" font-family=\"Times New Roman,serif\" font-size=\"14.00\">samples = 3</text>\r\n",
       "<text text-anchor=\"middle\" x=\"272\" y=\"-22.8\" font-family=\"Times New Roman,serif\" font-size=\"14.00\">value = [3, 0]</text>\r\n",
       "<text text-anchor=\"middle\" x=\"272\" y=\"-7.8\" font-family=\"Times New Roman,serif\" font-size=\"14.00\">class = White</text>\r\n",
       "</g>\r\n",
       "<!-- 6&#45;&gt;7 -->\r\n",
       "<g id=\"edge7\" class=\"edge\"><title>6&#45;&gt;7</title>\r\n",
       "<path fill=\"none\" stroke=\"black\" d=\"M288.906,-88.9485C286.591,-80.5323 284.093,-71.4536 281.746,-62.9243\"/>\r\n",
       "<polygon fill=\"black\" stroke=\"black\" points=\"285.108,-61.9499 279.081,-53.2367 278.359,-63.8069 285.108,-61.9499\"/>\r\n",
       "</g>\r\n",
       "<!-- 8 -->\r\n",
       "<g id=\"node9\" class=\"node\"><title>8</title>\r\n",
       "<polygon fill=\"#399de5\" stroke=\"black\" points=\"427.5,-53 336.5,-53 336.5,-0 427.5,-0 427.5,-53\"/>\r\n",
       "<text text-anchor=\"middle\" x=\"382\" y=\"-37.8\" font-family=\"Times New Roman,serif\" font-size=\"14.00\">samples = 7</text>\r\n",
       "<text text-anchor=\"middle\" x=\"382\" y=\"-22.8\" font-family=\"Times New Roman,serif\" font-size=\"14.00\">value = [0, 7]</text>\r\n",
       "<text text-anchor=\"middle\" x=\"382\" y=\"-7.8\" font-family=\"Times New Roman,serif\" font-size=\"14.00\">class = Red</text>\r\n",
       "</g>\r\n",
       "<!-- 6&#45;&gt;8 -->\r\n",
       "<g id=\"edge8\" class=\"edge\"><title>6&#45;&gt;8</title>\r\n",
       "<path fill=\"none\" stroke=\"black\" d=\"M327.379,-88.9485C335.511,-79.8005 344.338,-69.8697 352.478,-60.7126\"/>\r\n",
       "<polygon fill=\"black\" stroke=\"black\" points=\"355.095,-63.0361 359.123,-53.2367 349.863,-58.3855 355.095,-63.0361\"/>\r\n",
       "</g>\r\n",
       "<!-- 10 -->\r\n",
       "<g id=\"node11\" class=\"node\"><title>10</title>\r\n",
       "<polygon fill=\"#e58139\" stroke=\"black\" points=\"498.5,-149.5 405.5,-149.5 405.5,-96.5 498.5,-96.5 498.5,-149.5\"/>\r\n",
       "<text text-anchor=\"middle\" x=\"452\" y=\"-134.3\" font-family=\"Times New Roman,serif\" font-size=\"14.00\">samples = 3</text>\r\n",
       "<text text-anchor=\"middle\" x=\"452\" y=\"-119.3\" font-family=\"Times New Roman,serif\" font-size=\"14.00\">value = [3, 0]</text>\r\n",
       "<text text-anchor=\"middle\" x=\"452\" y=\"-104.3\" font-family=\"Times New Roman,serif\" font-size=\"14.00\">class = White</text>\r\n",
       "</g>\r\n",
       "<!-- 9&#45;&gt;10 -->\r\n",
       "<g id=\"edge10\" class=\"edge\"><title>9&#45;&gt;10</title>\r\n",
       "<path fill=\"none\" stroke=\"black\" d=\"M506.026,-192.884C497.142,-181.556 487.2,-168.88 478.291,-157.521\"/>\r\n",
       "<polygon fill=\"black\" stroke=\"black\" points=\"480.941,-155.228 472.016,-149.52 475.433,-159.548 480.941,-155.228\"/>\r\n",
       "</g>\r\n",
       "<!-- 11 -->\r\n",
       "<g id=\"node12\" class=\"node\"><title>11</title>\r\n",
       "<polygon fill=\"#399de5\" fill-opacity=\"0.988235\" stroke=\"black\" points=\"667.5,-157 516.5,-157 516.5,-89 667.5,-89 667.5,-157\"/>\r\n",
       "<text text-anchor=\"middle\" x=\"592\" y=\"-141.8\" font-family=\"Times New Roman,serif\" font-size=\"14.00\">volatile acidity &lt;= 0.205</text>\r\n",
       "<text text-anchor=\"middle\" x=\"592\" y=\"-126.8\" font-family=\"Times New Roman,serif\" font-size=\"14.00\">samples = 940</text>\r\n",
       "<text text-anchor=\"middle\" x=\"592\" y=\"-111.8\" font-family=\"Times New Roman,serif\" font-size=\"14.00\">value = [10, 930]</text>\r\n",
       "<text text-anchor=\"middle\" x=\"592\" y=\"-96.8\" font-family=\"Times New Roman,serif\" font-size=\"14.00\">class = Red</text>\r\n",
       "</g>\r\n",
       "<!-- 9&#45;&gt;11 -->\r\n",
       "<g id=\"edge11\" class=\"edge\"><title>9&#45;&gt;11</title>\r\n",
       "<path fill=\"none\" stroke=\"black\" d=\"M551.48,-192.884C556.51,-184.332 561.992,-175.013 567.252,-166.072\"/>\r\n",
       "<polygon fill=\"black\" stroke=\"black\" points=\"570.359,-167.693 572.412,-157.299 564.325,-164.144 570.359,-167.693\"/>\r\n",
       "</g>\r\n",
       "<!-- 12 -->\r\n",
       "<g id=\"node13\" class=\"node\"><title>12</title>\r\n",
       "<polygon fill=\"#399de5\" fill-opacity=\"0.545098\" stroke=\"black\" points=\"544,-53 446,-53 446,-0 544,-0 544,-53\"/>\r\n",
       "<text text-anchor=\"middle\" x=\"495\" y=\"-37.8\" font-family=\"Times New Roman,serif\" font-size=\"14.00\">samples = 16</text>\r\n",
       "<text text-anchor=\"middle\" x=\"495\" y=\"-22.8\" font-family=\"Times New Roman,serif\" font-size=\"14.00\">value = [5, 11]</text>\r\n",
       "<text text-anchor=\"middle\" x=\"495\" y=\"-7.8\" font-family=\"Times New Roman,serif\" font-size=\"14.00\">class = Red</text>\r\n",
       "</g>\r\n",
       "<!-- 11&#45;&gt;12 -->\r\n",
       "<g id=\"edge12\" class=\"edge\"><title>11&#45;&gt;12</title>\r\n",
       "<path fill=\"none\" stroke=\"black\" d=\"M558.074,-88.9485C548.59,-79.709 538.287,-69.671 528.809,-60.4381\"/>\r\n",
       "<polygon fill=\"black\" stroke=\"black\" points=\"531.023,-57.7079 521.418,-53.2367 526.138,-62.7219 531.023,-57.7079\"/>\r\n",
       "</g>\r\n",
       "<!-- 13 -->\r\n",
       "<g id=\"node14\" class=\"node\"><title>13</title>\r\n",
       "<polygon fill=\"#399de5\" fill-opacity=\"0.996078\" stroke=\"black\" points=\"666,-53 562,-53 562,-0 666,-0 666,-53\"/>\r\n",
       "<text text-anchor=\"middle\" x=\"614\" y=\"-37.8\" font-family=\"Times New Roman,serif\" font-size=\"14.00\">samples = 924</text>\r\n",
       "<text text-anchor=\"middle\" x=\"614\" y=\"-22.8\" font-family=\"Times New Roman,serif\" font-size=\"14.00\">value = [5, 919]</text>\r\n",
       "<text text-anchor=\"middle\" x=\"614\" y=\"-7.8\" font-family=\"Times New Roman,serif\" font-size=\"14.00\">class = Red</text>\r\n",
       "</g>\r\n",
       "<!-- 11&#45;&gt;13 -->\r\n",
       "<g id=\"edge13\" class=\"edge\"><title>11&#45;&gt;13</title>\r\n",
       "<path fill=\"none\" stroke=\"black\" d=\"M599.695,-88.9485C601.633,-80.6238 603.721,-71.6509 605.688,-63.2027\"/>\r\n",
       "<polygon fill=\"black\" stroke=\"black\" points=\"609.15,-63.7699 608.008,-53.2367 602.332,-62.1826 609.15,-63.7699\"/>\r\n",
       "</g>\r\n",
       "<!-- 15 -->\r\n",
       "<g id=\"node16\" class=\"node\"><title>15</title>\r\n",
       "<polygon fill=\"#e58139\" fill-opacity=\"0.992157\" stroke=\"black\" points=\"993.5,-261 842.5,-261 842.5,-193 993.5,-193 993.5,-261\"/>\r\n",
       "<text text-anchor=\"middle\" x=\"918\" y=\"-245.8\" font-family=\"Times New Roman,serif\" font-size=\"14.00\">volatile acidity &lt;= 0.913</text>\r\n",
       "<text text-anchor=\"middle\" x=\"918\" y=\"-230.8\" font-family=\"Times New Roman,serif\" font-size=\"14.00\">samples = 3463</text>\r\n",
       "<text text-anchor=\"middle\" x=\"918\" y=\"-215.8\" font-family=\"Times New Roman,serif\" font-size=\"14.00\">value = [3432, 31]</text>\r\n",
       "<text text-anchor=\"middle\" x=\"918\" y=\"-200.8\" font-family=\"Times New Roman,serif\" font-size=\"14.00\">class = White</text>\r\n",
       "</g>\r\n",
       "<!-- 14&#45;&gt;15 -->\r\n",
       "<g id=\"edge15\" class=\"edge\"><title>14&#45;&gt;15</title>\r\n",
       "<path fill=\"none\" stroke=\"black\" d=\"M918,-296.884C918,-288.778 918,-279.982 918,-271.472\"/>\r\n",
       "<polygon fill=\"black\" stroke=\"black\" points=\"921.5,-271.299 918,-261.299 914.5,-271.299 921.5,-271.299\"/>\r\n",
       "</g>\r\n",
       "<!-- 22 -->\r\n",
       "<g id=\"node23\" class=\"node\"><title>22</title>\r\n",
       "<polygon fill=\"#399de5\" fill-opacity=\"0.286275\" stroke=\"black\" points=\"1296,-261 1178,-261 1178,-193 1296,-193 1296,-261\"/>\r\n",
       "<text text-anchor=\"middle\" x=\"1237\" y=\"-245.8\" font-family=\"Times New Roman,serif\" font-size=\"14.00\">density &lt;= 0.995</text>\r\n",
       "<text text-anchor=\"middle\" x=\"1237\" y=\"-230.8\" font-family=\"Times New Roman,serif\" font-size=\"14.00\">samples = 374</text>\r\n",
       "<text text-anchor=\"middle\" x=\"1237\" y=\"-215.8\" font-family=\"Times New Roman,serif\" font-size=\"14.00\">value = [156, 218]</text>\r\n",
       "<text text-anchor=\"middle\" x=\"1237\" y=\"-200.8\" font-family=\"Times New Roman,serif\" font-size=\"14.00\">class = Red</text>\r\n",
       "</g>\r\n",
       "<!-- 14&#45;&gt;22 -->\r\n",
       "<g id=\"edge22\" class=\"edge\"><title>14&#45;&gt;22</title>\r\n",
       "<path fill=\"none\" stroke=\"black\" d=\"M980.644,-309.97C1034.56,-292.729 1112.25,-267.89 1167.95,-250.079\"/>\r\n",
       "<polygon fill=\"black\" stroke=\"black\" points=\"1169.27,-253.33 1177.73,-246.95 1167.14,-246.662 1169.27,-253.33\"/>\r\n",
       "</g>\r\n",
       "<!-- 16 -->\r\n",
       "<g id=\"node17\" class=\"node\"><title>16</title>\r\n",
       "<polygon fill=\"#e58139\" fill-opacity=\"0.992157\" stroke=\"black\" points=\"895.5,-157 772.5,-157 772.5,-89 895.5,-89 895.5,-157\"/>\r\n",
       "<text text-anchor=\"middle\" x=\"834\" y=\"-141.8\" font-family=\"Times New Roman,serif\" font-size=\"14.00\">sulphates &lt;= 1.115</text>\r\n",
       "<text text-anchor=\"middle\" x=\"834\" y=\"-126.8\" font-family=\"Times New Roman,serif\" font-size=\"14.00\">samples = 3457</text>\r\n",
       "<text text-anchor=\"middle\" x=\"834\" y=\"-111.8\" font-family=\"Times New Roman,serif\" font-size=\"14.00\">value = [3430, 27]</text>\r\n",
       "<text text-anchor=\"middle\" x=\"834\" y=\"-96.8\" font-family=\"Times New Roman,serif\" font-size=\"14.00\">class = White</text>\r\n",
       "</g>\r\n",
       "<!-- 15&#45;&gt;16 -->\r\n",
       "<g id=\"edge16\" class=\"edge\"><title>15&#45;&gt;16</title>\r\n",
       "<path fill=\"none\" stroke=\"black\" d=\"M890.728,-192.884C883.465,-184.065 875.531,-174.43 867.958,-165.235\"/>\r\n",
       "<polygon fill=\"black\" stroke=\"black\" points=\"870.482,-162.794 861.423,-157.299 865.078,-167.244 870.482,-162.794\"/>\r\n",
       "</g>\r\n",
       "<!-- 19 -->\r\n",
       "<g id=\"node20\" class=\"node\"><title>19</title>\r\n",
       "<polygon fill=\"#399de5\" fill-opacity=\"0.498039\" stroke=\"black\" points=\"1090,-157 914,-157 914,-89 1090,-89 1090,-157\"/>\r\n",
       "<text text-anchor=\"middle\" x=\"1002\" y=\"-141.8\" font-family=\"Times New Roman,serif\" font-size=\"14.00\">total sulfur dioxide &lt;= 102.5</text>\r\n",
       "<text text-anchor=\"middle\" x=\"1002\" y=\"-126.8\" font-family=\"Times New Roman,serif\" font-size=\"14.00\">samples = 6</text>\r\n",
       "<text text-anchor=\"middle\" x=\"1002\" y=\"-111.8\" font-family=\"Times New Roman,serif\" font-size=\"14.00\">value = [2, 4]</text>\r\n",
       "<text text-anchor=\"middle\" x=\"1002\" y=\"-96.8\" font-family=\"Times New Roman,serif\" font-size=\"14.00\">class = Red</text>\r\n",
       "</g>\r\n",
       "<!-- 15&#45;&gt;19 -->\r\n",
       "<g id=\"edge19\" class=\"edge\"><title>15&#45;&gt;19</title>\r\n",
       "<path fill=\"none\" stroke=\"black\" d=\"M945.272,-192.884C952.535,-184.065 960.469,-174.43 968.042,-165.235\"/>\r\n",
       "<polygon fill=\"black\" stroke=\"black\" points=\"970.922,-167.244 974.577,-157.299 965.518,-162.794 970.922,-167.244\"/>\r\n",
       "</g>\r\n",
       "<!-- 17 -->\r\n",
       "<g id=\"node18\" class=\"node\"><title>17</title>\r\n",
       "<polygon fill=\"#e58139\" fill-opacity=\"0.992157\" stroke=\"black\" points=\"802,-53 684,-53 684,-0 802,-0 802,-53\"/>\r\n",
       "<text text-anchor=\"middle\" x=\"743\" y=\"-37.8\" font-family=\"Times New Roman,serif\" font-size=\"14.00\">samples = 3455</text>\r\n",
       "<text text-anchor=\"middle\" x=\"743\" y=\"-22.8\" font-family=\"Times New Roman,serif\" font-size=\"14.00\">value = [3430, 25]</text>\r\n",
       "<text text-anchor=\"middle\" x=\"743\" y=\"-7.8\" font-family=\"Times New Roman,serif\" font-size=\"14.00\">class = White</text>\r\n",
       "</g>\r\n",
       "<!-- 16&#45;&gt;17 -->\r\n",
       "<g id=\"edge17\" class=\"edge\"><title>16&#45;&gt;17</title>\r\n",
       "<path fill=\"none\" stroke=\"black\" d=\"M802.173,-88.9485C793.363,-79.8005 783.8,-69.8697 774.982,-60.7126\"/>\r\n",
       "<polygon fill=\"black\" stroke=\"black\" points=\"777.241,-58.0122 767.783,-53.2367 772.199,-62.8677 777.241,-58.0122\"/>\r\n",
       "</g>\r\n",
       "<!-- 18 -->\r\n",
       "<g id=\"node19\" class=\"node\"><title>18</title>\r\n",
       "<polygon fill=\"#399de5\" stroke=\"black\" points=\"911.5,-53 820.5,-53 820.5,-0 911.5,-0 911.5,-53\"/>\r\n",
       "<text text-anchor=\"middle\" x=\"866\" y=\"-37.8\" font-family=\"Times New Roman,serif\" font-size=\"14.00\">samples = 2</text>\r\n",
       "<text text-anchor=\"middle\" x=\"866\" y=\"-22.8\" font-family=\"Times New Roman,serif\" font-size=\"14.00\">value = [0, 2]</text>\r\n",
       "<text text-anchor=\"middle\" x=\"866\" y=\"-7.8\" font-family=\"Times New Roman,serif\" font-size=\"14.00\">class = Red</text>\r\n",
       "</g>\r\n",
       "<!-- 16&#45;&gt;18 -->\r\n",
       "<g id=\"edge18\" class=\"edge\"><title>16&#45;&gt;18</title>\r\n",
       "<path fill=\"none\" stroke=\"black\" d=\"M845.192,-88.9485C848.042,-80.5323 851.116,-71.4536 854.004,-62.9243\"/>\r\n",
       "<polygon fill=\"black\" stroke=\"black\" points=\"857.393,-63.831 857.285,-53.2367 850.762,-61.5858 857.393,-63.831\"/>\r\n",
       "</g>\r\n",
       "<!-- 20 -->\r\n",
       "<g id=\"node21\" class=\"node\"><title>20</title>\r\n",
       "<polygon fill=\"#399de5\" stroke=\"black\" points=\"1020.5,-53 929.5,-53 929.5,-0 1020.5,-0 1020.5,-53\"/>\r\n",
       "<text text-anchor=\"middle\" x=\"975\" y=\"-37.8\" font-family=\"Times New Roman,serif\" font-size=\"14.00\">samples = 4</text>\r\n",
       "<text text-anchor=\"middle\" x=\"975\" y=\"-22.8\" font-family=\"Times New Roman,serif\" font-size=\"14.00\">value = [0, 4]</text>\r\n",
       "<text text-anchor=\"middle\" x=\"975\" y=\"-7.8\" font-family=\"Times New Roman,serif\" font-size=\"14.00\">class = Red</text>\r\n",
       "</g>\r\n",
       "<!-- 19&#45;&gt;20 -->\r\n",
       "<g id=\"edge20\" class=\"edge\"><title>19&#45;&gt;20</title>\r\n",
       "<path fill=\"none\" stroke=\"black\" d=\"M992.557,-88.9485C990.152,-80.5323 987.558,-71.4536 985.121,-62.9243\"/>\r\n",
       "<polygon fill=\"black\" stroke=\"black\" points=\"988.466,-61.8904 982.353,-53.2367 981.735,-63.8135 988.466,-61.8904\"/>\r\n",
       "</g>\r\n",
       "<!-- 21 -->\r\n",
       "<g id=\"node22\" class=\"node\"><title>21</title>\r\n",
       "<polygon fill=\"#e58139\" stroke=\"black\" points=\"1131.5,-53 1038.5,-53 1038.5,-0 1131.5,-0 1131.5,-53\"/>\r\n",
       "<text text-anchor=\"middle\" x=\"1085\" y=\"-37.8\" font-family=\"Times New Roman,serif\" font-size=\"14.00\">samples = 2</text>\r\n",
       "<text text-anchor=\"middle\" x=\"1085\" y=\"-22.8\" font-family=\"Times New Roman,serif\" font-size=\"14.00\">value = [2, 0]</text>\r\n",
       "<text text-anchor=\"middle\" x=\"1085\" y=\"-7.8\" font-family=\"Times New Roman,serif\" font-size=\"14.00\">class = White</text>\r\n",
       "</g>\r\n",
       "<!-- 19&#45;&gt;21 -->\r\n",
       "<g id=\"edge21\" class=\"edge\"><title>19&#45;&gt;21</title>\r\n",
       "<path fill=\"none\" stroke=\"black\" d=\"M1031.03,-88.9485C1038.98,-79.892 1047.61,-70.0682 1055.59,-60.9875\"/>\r\n",
       "<polygon fill=\"black\" stroke=\"black\" points=\"1058.43,-63.0599 1062.4,-53.2367 1053.17,-58.4405 1058.43,-63.0599\"/>\r\n",
       "</g>\r\n",
       "<!-- 23 -->\r\n",
       "<g id=\"node24\" class=\"node\"><title>23</title>\r\n",
       "<polygon fill=\"#e58139\" fill-opacity=\"0.937255\" stroke=\"black\" points=\"1296.5,-157 1177.5,-157 1177.5,-89 1296.5,-89 1296.5,-157\"/>\r\n",
       "<text text-anchor=\"middle\" x=\"1237\" y=\"-141.8\" font-family=\"Times New Roman,serif\" font-size=\"14.00\">citric acid &lt;= 0.06</text>\r\n",
       "<text text-anchor=\"middle\" x=\"1237\" y=\"-126.8\" font-family=\"Times New Roman,serif\" font-size=\"14.00\">samples = 100</text>\r\n",
       "<text text-anchor=\"middle\" x=\"1237\" y=\"-111.8\" font-family=\"Times New Roman,serif\" font-size=\"14.00\">value = [94, 6]</text>\r\n",
       "<text text-anchor=\"middle\" x=\"1237\" y=\"-96.8\" font-family=\"Times New Roman,serif\" font-size=\"14.00\">class = White</text>\r\n",
       "</g>\r\n",
       "<!-- 22&#45;&gt;23 -->\r\n",
       "<g id=\"edge23\" class=\"edge\"><title>22&#45;&gt;23</title>\r\n",
       "<path fill=\"none\" stroke=\"black\" d=\"M1237,-192.884C1237,-184.778 1237,-175.982 1237,-167.472\"/>\r\n",
       "<polygon fill=\"black\" stroke=\"black\" points=\"1240.5,-167.299 1237,-157.299 1233.5,-167.299 1240.5,-167.299\"/>\r\n",
       "</g>\r\n",
       "<!-- 26 -->\r\n",
       "<g id=\"node27\" class=\"node\"><title>26</title>\r\n",
       "<polygon fill=\"#399de5\" fill-opacity=\"0.705882\" stroke=\"black\" points=\"1497.5,-157 1356.5,-157 1356.5,-89 1497.5,-89 1497.5,-157\"/>\r\n",
       "<text text-anchor=\"middle\" x=\"1427\" y=\"-141.8\" font-family=\"Times New Roman,serif\" font-size=\"14.00\">residual sugar &lt;= 6.65</text>\r\n",
       "<text text-anchor=\"middle\" x=\"1427\" y=\"-126.8\" font-family=\"Times New Roman,serif\" font-size=\"14.00\">samples = 274</text>\r\n",
       "<text text-anchor=\"middle\" x=\"1427\" y=\"-111.8\" font-family=\"Times New Roman,serif\" font-size=\"14.00\">value = [62, 212]</text>\r\n",
       "<text text-anchor=\"middle\" x=\"1427\" y=\"-96.8\" font-family=\"Times New Roman,serif\" font-size=\"14.00\">class = Red</text>\r\n",
       "</g>\r\n",
       "<!-- 22&#45;&gt;26 -->\r\n",
       "<g id=\"edge26\" class=\"edge\"><title>22&#45;&gt;26</title>\r\n",
       "<path fill=\"none\" stroke=\"black\" d=\"M1296.08,-194.286C1315.16,-184.041 1336.51,-172.58 1356.34,-161.933\"/>\r\n",
       "<polygon fill=\"black\" stroke=\"black\" points=\"1358.18,-164.919 1365.33,-157.105 1354.87,-158.752 1358.18,-164.919\"/>\r\n",
       "</g>\r\n",
       "<!-- 24 -->\r\n",
       "<g id=\"node25\" class=\"node\"><title>24</title>\r\n",
       "<polygon fill=\"#399de5\" stroke=\"black\" points=\"1240.5,-53 1149.5,-53 1149.5,-0 1240.5,-0 1240.5,-53\"/>\r\n",
       "<text text-anchor=\"middle\" x=\"1195\" y=\"-37.8\" font-family=\"Times New Roman,serif\" font-size=\"14.00\">samples = 3</text>\r\n",
       "<text text-anchor=\"middle\" x=\"1195\" y=\"-22.8\" font-family=\"Times New Roman,serif\" font-size=\"14.00\">value = [0, 3]</text>\r\n",
       "<text text-anchor=\"middle\" x=\"1195\" y=\"-7.8\" font-family=\"Times New Roman,serif\" font-size=\"14.00\">class = Red</text>\r\n",
       "</g>\r\n",
       "<!-- 23&#45;&gt;24 -->\r\n",
       "<g id=\"edge24\" class=\"edge\"><title>23&#45;&gt;24</title>\r\n",
       "<path fill=\"none\" stroke=\"black\" d=\"M1222.31,-88.9485C1218.53,-80.4408 1214.45,-71.2562 1210.62,-62.6464\"/>\r\n",
       "<polygon fill=\"black\" stroke=\"black\" points=\"1213.7,-60.9533 1206.44,-53.2367 1207.3,-63.7963 1213.7,-60.9533\"/>\r\n",
       "</g>\r\n",
       "<!-- 25 -->\r\n",
       "<g id=\"node26\" class=\"node\"><title>25</title>\r\n",
       "<polygon fill=\"#e58139\" fill-opacity=\"0.968627\" stroke=\"black\" points=\"1357,-53 1259,-53 1259,-0 1357,-0 1357,-53\"/>\r\n",
       "<text text-anchor=\"middle\" x=\"1308\" y=\"-37.8\" font-family=\"Times New Roman,serif\" font-size=\"14.00\">samples = 97</text>\r\n",
       "<text text-anchor=\"middle\" x=\"1308\" y=\"-22.8\" font-family=\"Times New Roman,serif\" font-size=\"14.00\">value = [94, 3]</text>\r\n",
       "<text text-anchor=\"middle\" x=\"1308\" y=\"-7.8\" font-family=\"Times New Roman,serif\" font-size=\"14.00\">class = White</text>\r\n",
       "</g>\r\n",
       "<!-- 23&#45;&gt;25 -->\r\n",
       "<g id=\"edge25\" class=\"edge\"><title>23&#45;&gt;25</title>\r\n",
       "<path fill=\"none\" stroke=\"black\" d=\"M1261.83,-88.9485C1268.57,-79.9834 1275.87,-70.2666 1282.63,-61.2629\"/>\r\n",
       "<polygon fill=\"black\" stroke=\"black\" points=\"1285.45,-63.334 1288.66,-53.2367 1279.86,-59.1293 1285.45,-63.334\"/>\r\n",
       "</g>\r\n",
       "<!-- 27 -->\r\n",
       "<g id=\"node28\" class=\"node\"><title>27</title>\r\n",
       "<polygon fill=\"#399de5\" fill-opacity=\"0.976471\" stroke=\"black\" points=\"1479,-53 1375,-53 1375,-0 1479,-0 1479,-53\"/>\r\n",
       "<text text-anchor=\"middle\" x=\"1427\" y=\"-37.8\" font-family=\"Times New Roman,serif\" font-size=\"14.00\">samples = 204</text>\r\n",
       "<text text-anchor=\"middle\" x=\"1427\" y=\"-22.8\" font-family=\"Times New Roman,serif\" font-size=\"14.00\">value = [5, 199]</text>\r\n",
       "<text text-anchor=\"middle\" x=\"1427\" y=\"-7.8\" font-family=\"Times New Roman,serif\" font-size=\"14.00\">class = Red</text>\r\n",
       "</g>\r\n",
       "<!-- 26&#45;&gt;27 -->\r\n",
       "<g id=\"edge27\" class=\"edge\"><title>26&#45;&gt;27</title>\r\n",
       "<path fill=\"none\" stroke=\"black\" d=\"M1427,-88.9485C1427,-80.7153 1427,-71.848 1427,-63.4814\"/>\r\n",
       "<polygon fill=\"black\" stroke=\"black\" points=\"1430.5,-63.2367 1427,-53.2367 1423.5,-63.2367 1430.5,-63.2367\"/>\r\n",
       "</g>\r\n",
       "<!-- 28 -->\r\n",
       "<g id=\"node29\" class=\"node\"><title>28</title>\r\n",
       "<polygon fill=\"#e58139\" fill-opacity=\"0.772549\" stroke=\"black\" points=\"1601,-53 1497,-53 1497,-0 1601,-0 1601,-53\"/>\r\n",
       "<text text-anchor=\"middle\" x=\"1549\" y=\"-37.8\" font-family=\"Times New Roman,serif\" font-size=\"14.00\">samples = 70</text>\r\n",
       "<text text-anchor=\"middle\" x=\"1549\" y=\"-22.8\" font-family=\"Times New Roman,serif\" font-size=\"14.00\">value = [57, 13]</text>\r\n",
       "<text text-anchor=\"middle\" x=\"1549\" y=\"-7.8\" font-family=\"Times New Roman,serif\" font-size=\"14.00\">class = White</text>\r\n",
       "</g>\r\n",
       "<!-- 26&#45;&gt;28 -->\r\n",
       "<g id=\"edge28\" class=\"edge\"><title>26&#45;&gt;28</title>\r\n",
       "<path fill=\"none\" stroke=\"black\" d=\"M1469.67,-88.9485C1481.95,-79.4346 1495.33,-69.074 1507.54,-59.6175\"/>\r\n",
       "<polygon fill=\"black\" stroke=\"black\" points=\"1510.01,-62.1274 1515.77,-53.2367 1505.72,-56.5934 1510.01,-62.1274\"/>\r\n",
       "</g>\r\n",
       "</g>\r\n",
       "</svg>\r\n"
      ],
      "text/plain": [
       "<graphviz.files.Source at 0x2ec027462b0>"
      ]
     },
     "execution_count": 68,
     "metadata": {},
     "output_type": "execute_result"
    }
   ],
   "source": [
    "import graphviz\n",
    "with open('tree.dot') as f:\n",
    "    dot_graph = f.read()\n",
    "graphviz.Source(dot_graph)"
   ]
  },
  {
   "cell_type": "code",
   "execution_count": 69,
   "metadata": {},
   "outputs": [
    {
     "name": "stdout",
     "output_type": "stream",
     "text": [
      "Feature importances:\n",
      "[0.         0.00483013 0.00323267 0.03845406 0.20414453 0.\n",
      " 0.69047141 0.0519144  0.00462242 0.00233038 0.         0.        ]\n"
     ]
    }
   ],
   "source": [
    "print(\"Feature importances:\\n{}\".format(tree4.feature_importances_))"
   ]
  },
  {
   "cell_type": "code",
   "execution_count": 70,
   "metadata": {},
   "outputs": [
    {
     "data": {
      "image/png": "[encoded data removed]",
      "text/plain": [
       "<Figure size 432x288 with 1 Axes>"
      ]
     },
     "metadata": {},
     "output_type": "display_data"
    }
   ],
   "source": [
    "def plot_feature_importances(model):\n",
    "    n_features = X.shape[1]\n",
    "    plt.barh(range(n_features), model.feature_importances_, align='center')\n",
    "    plt.yticks(np.arange(n_features), names)\n",
    "    plt.title('Feature importance for wines white/red')\n",
    "    plt.xlabel(\"Feature importance\")\n",
    "    plt.ylabel(\"Feature\")\n",
    "    \n",
    "plot_feature_importances(tree4)"
   ]
  },
  {
   "cell_type": "markdown",
   "metadata": {},
   "source": [
    "### finally, predict the quality of wine"
   ]
  },
  {
   "cell_type": "markdown",
   "metadata": {},
   "source": [
    "### first classifier we choose is LinearSVC"
   ]
  },
  {
   "cell_type": "code",
   "execution_count": 71,
   "metadata": {},
   "outputs": [
    {
     "name": "stdout",
     "output_type": "stream",
     "text": [
      "Accuracy on training set: 0.439\n",
      "Accuracy on test set: 0.451\n"
     ]
    }
   ],
   "source": [
    "from sklearn.svm import LinearSVC\n",
    "\n",
    "X = np.array(df.drop(['quality'], 1))\n",
    "y = np.array(df['quality'])\n",
    "X_train, X_test, y_train, y_test = train_test_split(X, y)\n",
    "training_accuracy = []\n",
    "test_accuracy = []\n",
    "\n",
    "svm = LinearSVC().fit(X_train, y_train)\n",
    "print(\"Accuracy on training set: {:.3f}\".format(svm.score(X_train, y_train)))\n",
    "print(\"Accuracy on test set: {:.3f}\".format(svm.score(X_test, y_test)))"
   ]
  },
  {
   "cell_type": "code",
   "execution_count": 72,
   "metadata": {},
   "outputs": [
    {
     "name": "stdout",
     "output_type": "stream",
     "text": [
      "Accuracy on training set: 0.531\n",
      "Accuracy on test set: 0.534\n"
     ]
    }
   ],
   "source": [
    "#change to l1\n",
    "svml1 = LinearSVC(penalty='l1', dual=False).fit(X_train, y_train)\n",
    "print(\"Accuracy on training set: {:.3f}\".format(svml1.score(X_train, y_train)))\n",
    "print(\"Accuracy on test set: {:.3f}\".format(svml1.score(X_test, y_test)))"
   ]
  },
  {
   "cell_type": "code",
   "execution_count": 73,
   "metadata": {},
   "outputs": [
    {
     "name": "stdout",
     "output_type": "stream",
     "text": [
      "Accuracy on training set: 0.522\n",
      "Accuracy on test set: 0.518\n"
     ]
    }
   ],
   "source": [
    "#decrease C\n",
    "svm001 = LinearSVC(C=0.01, penalty='l1', dual=False).fit(X_train, y_train)\n",
    "print(\"Accuracy on training set: {:.3f}\".format(svm001.score(X_train, y_train)))\n",
    "training_accuracy.append(svm001.score(X_train, y_train))\n",
    "print(\"Accuracy on test set: {:.3f}\".format(svm001.score(X_test, y_test)))\n",
    "test_accuracy.append(svm001.score(X_test, y_test))"
   ]
  },
  {
   "cell_type": "code",
   "execution_count": 74,
   "metadata": {},
   "outputs": [
    {
     "name": "stdout",
     "output_type": "stream",
     "text": [
      "Accuracy on training set: 0.529\n",
      "Accuracy on test set: 0.535\n"
     ]
    }
   ],
   "source": [
    "#decrease C\n",
    "svmc01 = LinearSVC(C=0.1, penalty='l1', dual=False).fit(X_train, y_train)\n",
    "print(\"Accuracy on training set: {:.3f}\".format(svmc01.score(X_train, y_train)))\n",
    "training_accuracy.append(svmc01.score(X_train, y_train))\n",
    "print(\"Accuracy on test set: {:.3f}\".format(svmc01.score(X_test, y_test)))\n",
    "test_accuracy.append(svmc01.score(X_test, y_test))"
   ]
  },
  {
   "cell_type": "code",
   "execution_count": 75,
   "metadata": {},
   "outputs": [
    {
     "name": "stdout",
     "output_type": "stream",
     "text": [
      "Accuracy on training set: 0.530\n",
      "Accuracy on test set: 0.531\n"
     ]
    }
   ],
   "source": [
    "#C=1\n",
    "svmc1 = LinearSVC(penalty='l1', dual=False).fit(X_train, y_train)\n",
    "print(\"Accuracy on training set: {:.3f}\".format(svmc1.score(X_train, y_train)))\n",
    "training_accuracy.append(svmc1.score(X_train, y_train))\n",
    "print(\"Accuracy on test set: {:.3f}\".format(svmc1.score(X_test, y_test)))\n",
    "test_accuracy.append(svmc1.score(X_test, y_test))"
   ]
  },
  {
   "cell_type": "code",
   "execution_count": 76,
   "metadata": {},
   "outputs": [
    {
     "name": "stdout",
     "output_type": "stream",
     "text": [
      "Accuracy on training set: 0.531\n",
      "Accuracy on test set: 0.529\n"
     ]
    }
   ],
   "source": [
    "#increase C\n",
    "svmc10 = LinearSVC(C=10, penalty='l1', dual=False).fit(X_train, y_train)\n",
    "print(\"Accuracy on training set: {:.3f}\".format(svmc10.score(X_train, y_train)))\n",
    "training_accuracy.append(svmc10.score(X_train, y_train))\n",
    "print(\"Accuracy on test set: {:.3f}\".format(svmc10.score(X_test, y_test)))\n",
    "test_accuracy.append(svmc10.score(X_test, y_test))"
   ]
  },
  {
   "cell_type": "code",
   "execution_count": 77,
   "metadata": {},
   "outputs": [
    {
     "name": "stdout",
     "output_type": "stream",
     "text": [
      "Accuracy on training set: 0.531\n",
      "Accuracy on test set: 0.529\n"
     ]
    }
   ],
   "source": [
    "#increase C\n",
    "svmc100 = LinearSVC(C=100, penalty='l1', dual=False).fit(X_train, y_train)\n",
    "print(\"Accuracy on training set: {:.3f}\".format(svmc100.score(X_train, y_train)))\n",
    "training_accuracy.append(svmc100.score(X_train, y_train))\n",
    "print(\"Accuracy on test set: {:.3f}\".format(svmc100.score(X_test, y_test)))\n",
    "test_accuracy.append(svmc100.score(X_test, y_test))"
   ]
  },
  {
   "cell_type": "code",
   "execution_count": 78,
   "metadata": {},
   "outputs": [
    {
     "name": "stdout",
     "output_type": "stream",
     "text": [
      "Accuracy on training set: 0.417\n",
      "Accuracy on test set: 0.428\n"
     ]
    }
   ],
   "source": [
    "#let's try to optimize a joint objective over all classes\n",
    "svmcrammer = LinearSVC(multi_class='crammer_singer').fit(X_train, y_train)\n",
    "print(\"Accuracy on training set: {:.3f}\".format(svmcrammer.score(X_train, y_train)))\n",
    "print(\"Accuracy on test set: {:.3f}\".format(svmcrammer.score(X_test, y_test)))"
   ]
  },
  {
   "cell_type": "code",
   "execution_count": 79,
   "metadata": {},
   "outputs": [
    {
     "name": "stdout",
     "output_type": "stream",
     "text": [
      "Accuracy on training set: 0.439\n",
      "Accuracy on test set: 0.439\n"
     ]
    }
   ],
   "source": [
    "#balanced class weight\n",
    "svmbalanced = LinearSVC(penalty='l1', dual=False, class_weight='balanced').fit(X_train, y_train)\n",
    "print(\"Accuracy on training set: {:.3f}\".format(svmbalanced.score(X_train, y_train)))\n",
    "print(\"Accuracy on test set: {:.3f}\".format(svmbalanced.score(X_test, y_test)))"
   ]
  },
  {
   "cell_type": "markdown",
   "metadata": {},
   "source": [
    "### plot accuracy"
   ]
  },
  {
   "cell_type": "code",
   "execution_count": 80,
   "metadata": {},
   "outputs": [
    {
     "data": {
      "text/plain": [
       "<matplotlib.legend.Legend at 0x2ec04b1ecc0>"
      ]
     },
     "execution_count": 80,
     "metadata": {},
     "output_type": "execute_result"
    },
    {
     "data": {
      "image/png": "[encoded data removed]",
      "text/plain": [
       "<Figure size 432x288 with 1 Axes>"
      ]
     },
     "metadata": {},
     "output_type": "display_data"
    }
   ],
   "source": [
    "svm_settings = [0.01, 0.1, 1, 10, 100]\n",
    "\n",
    "plt.plot(tree_settings, training_accuracy, label=\"training accuracy\")\n",
    "plt.plot(tree_settings, test_accuracy, label=\"test accuracy\", linestyle= ':')\n",
    "plt.ylabel(\"Accuracy\")\n",
    "plt.xlabel(\"C value\")\n",
    "plt.legend()"
   ]
  },
  {
   "cell_type": "markdown",
   "metadata": {},
   "source": [
    "### plot coefficients for svmc01"
   ]
  },
  {
   "cell_type": "code",
   "execution_count": 81,
   "metadata": {},
   "outputs": [],
   "source": [
    "names = list(df.drop(['quality'], 1))"
   ]
  },
  {
   "cell_type": "code",
   "execution_count": 82,
   "metadata": {},
   "outputs": [
    {
     "data": {
      "text/plain": [
       "<matplotlib.legend.Legend at 0x2ec04b7a630>"
      ]
     },
     "execution_count": 82,
     "metadata": {},
     "output_type": "execute_result"
    },
    {
     "data": {
      "image/png": "[encoded data removed]",
      "text/plain": [
       "<Figure size 432x288 with 1 Axes>"
      ]
     },
     "metadata": {},
     "output_type": "display_data"
    }
   ],
   "source": [
    "plt.plot(svmc01.coef_, 'o', label=\"Linear Support Vector Classification C=0.1\")\n",
    "\n",
    "plt.xticks(range(len(names)), names, rotation=90)\n",
    "plt.hlines(0, 0, range(len(names)))\n",
    "plt.xlabel(\"Coefficient index\")\n",
    "plt.ylabel(\"Coefficient magnitude\")\n",
    "plt.legend(ncol=2, loc=(0, 1.05))"
   ]
  },
  {
   "cell_type": "markdown",
   "metadata": {},
   "source": [
    "### as second classifier we choose K nearest neighbours"
   ]
  },
  {
   "cell_type": "code",
   "execution_count": 83,
   "metadata": {},
   "outputs": [],
   "source": [
    "from sklearn import preprocessing\n",
    "from sklearn.neighbors import KNeighborsClassifier \n",
    "X = np.array(df.drop(['quality'], 1))\n",
    "y = np.array(df['quality'])\n",
    "X_train, X_test, y_train, y_test = train_test_split(X, y)\n",
    "\n",
    "# KNN works better with normalized values so scale X\n",
    "scaler = preprocessing.StandardScaler().fit(X_train)\n",
    "X_train = scaler.transform(X_train)\n",
    "X_test = scaler.transform(X_test) \n",
    "\n",
    "training_accuracy = []\n",
    "test_accuracy = []"
   ]
  },
  {
   "cell_type": "code",
   "execution_count": 84,
   "metadata": {},
   "outputs": [
    {
     "name": "stdout",
     "output_type": "stream",
     "text": [
      "Accuracy on training set: 0.698\n",
      "Accuracy on test set: 0.560\n"
     ]
    }
   ],
   "source": [
    "# start with default 5 neighbours\n",
    "kn = KNeighborsClassifier().fit(X_train, y_train)\n",
    "print(\"Accuracy on training set: {:.3f}\".format(kn.score(X_train, y_train)))\n",
    "print(\"Accuracy on test set: {:.3f}\".format(kn.score(X_test, y_test)))"
   ]
  },
  {
   "cell_type": "code",
   "execution_count": 85,
   "metadata": {},
   "outputs": [
    {
     "name": "stdout",
     "output_type": "stream",
     "text": [
      "Accuracy on training set: 0.821\n",
      "Accuracy on test set: 0.566\n"
     ]
    }
   ],
   "source": [
    "# less neighbours\n",
    "kn2 = KNeighborsClassifier(n_neighbors = 2).fit(X_train, y_train)\n",
    "print(\"Accuracy on training set: {:.3f}\".format(kn2.score(X_train, y_train)))\n",
    "training_accuracy.append(kn2.score(X_train, y_train))\n",
    "print(\"Accuracy on test set: {:.3f}\".format(kn2.score(X_test, y_test)))\n",
    "test_accuracy.append(kn2.score(X_test, y_test))"
   ]
  },
  {
   "cell_type": "code",
   "execution_count": 86,
   "metadata": {},
   "outputs": [
    {
     "name": "stdout",
     "output_type": "stream",
     "text": [
      "Accuracy on training set: 0.720\n",
      "Accuracy on test set: 0.566\n"
     ]
    }
   ],
   "source": [
    "# less neighbours\n",
    "kn4 = KNeighborsClassifier(n_neighbors = 4).fit(X_train, y_train)\n",
    "print(\"Accuracy on training set: {:.3f}\".format(kn4.score(X_train, y_train)))\n",
    "training_accuracy.append(kn4.score(X_train, y_train))\n",
    "print(\"Accuracy on test set: {:.3f}\".format(kn4.score(X_test, y_test)))\n",
    "test_accuracy.append(kn4.score(X_test, y_test))"
   ]
  },
  {
   "cell_type": "code",
   "execution_count": 87,
   "metadata": {},
   "outputs": [
    {
     "name": "stdout",
     "output_type": "stream",
     "text": [
      "Accuracy on training set: 0.678\n",
      "Accuracy on test set: 0.574\n"
     ]
    }
   ],
   "source": [
    "# more neighbours\n",
    "kn6 = KNeighborsClassifier(n_neighbors = 6).fit(X_train, y_train)\n",
    "print(\"Accuracy on training set: {:.3f}\".format(kn6.score(X_train, y_train)))\n",
    "training_accuracy.append(kn6.score(X_train, y_train))\n",
    "print(\"Accuracy on test set: {:.3f}\".format(kn6.score(X_test, y_test)))\n",
    "test_accuracy.append(kn6.score(X_test, y_test))"
   ]
  },
  {
   "cell_type": "code",
   "execution_count": 88,
   "metadata": {},
   "outputs": [
    {
     "name": "stdout",
     "output_type": "stream",
     "text": [
      "Accuracy on training set: 0.646\n",
      "Accuracy on test set: 0.567\n"
     ]
    }
   ],
   "source": [
    "# more neighbours\n",
    "kn8 = KNeighborsClassifier(n_neighbors = 8).fit(X_train, y_train)\n",
    "print(\"Accuracy on training set: {:.3f}\".format(kn8.score(X_train, y_train)))\n",
    "training_accuracy.append(kn8.score(X_train, y_train))\n",
    "print(\"Accuracy on test set: {:.3f}\".format(kn8.score(X_test, y_test)))\n",
    "test_accuracy.append(kn8.score(X_test, y_test))"
   ]
  },
  {
   "cell_type": "code",
   "execution_count": 89,
   "metadata": {},
   "outputs": [
    {
     "name": "stdout",
     "output_type": "stream",
     "text": [
      "Accuracy on training set: 0.639\n",
      "Accuracy on test set: 0.568\n"
     ]
    }
   ],
   "source": [
    "# more neighbours\n",
    "kn10 = KNeighborsClassifier(n_neighbors = 10).fit(X_train, y_train)\n",
    "print(\"Accuracy on training set: {:.3f}\".format(kn10.score(X_train, y_train)))\n",
    "training_accuracy.append(kn10.score(X_train, y_train))\n",
    "print(\"Accuracy on test set: {:.3f}\".format(kn10.score(X_test, y_test)))\n",
    "test_accuracy.append(kn10.score(X_test, y_test))"
   ]
  },
  {
   "cell_type": "code",
   "execution_count": 90,
   "metadata": {},
   "outputs": [
    {
     "name": "stdout",
     "output_type": "stream",
     "text": [
      "Accuracy on training set: 1.000\n",
      "Accuracy on test set: 0.677\n"
     ]
    }
   ],
   "source": [
    "# weight by dist, p=1, neighbours = 4\n",
    "kndist = KNeighborsClassifier(weights='distance', p=1, n_neighbors = 20).fit(X_train, y_train)\n",
    "print(\"Accuracy on training set: {:.3f}\".format(kndist.score(X_train, y_train)))\n",
    "training_accuracy.append(kndist.score(X_train, y_train))\n",
    "print(\"Accuracy on test set: {:.3f}\".format(kndist.score(X_test, y_test)))\n",
    "test_accuracy.append(kndist.score(X_test, y_test))"
   ]
  },
  {
   "cell_type": "markdown",
   "metadata": {},
   "source": [
    "### plot accuracy"
   ]
  },
  {
   "cell_type": "code",
   "execution_count": 91,
   "metadata": {},
   "outputs": [
    {
     "data": {
      "text/plain": [
       "<matplotlib.legend.Legend at 0x2ec04c5ac88>"
      ]
     },
     "execution_count": 91,
     "metadata": {},
     "output_type": "execute_result"
    },
    {
     "data": {
      "image/png": "[encoded data removed]",
      "text/plain": [
       "<Figure size 432x288 with 1 Axes>"
      ]
     },
     "metadata": {},
     "output_type": "display_data"
    }
   ],
   "source": [
    "kn_settings = [2, 4, 6, 8, 10, '9+wght=dist']\n",
    "\n",
    "plt.plot(kn_settings, training_accuracy, label=\"training accuracy\")\n",
    "plt.plot(kn_settings, test_accuracy, label=\"test accuracy\", linestyle= ':')\n",
    "plt.ylabel(\"Accuracy\")\n",
    "plt.xlabel(\"num. of neighbours\")\n",
    "plt.legend()"
   ]
  }
 ],
 "metadata": {
  "kernelspec": {
   "display_name": "Python 3",
   "language": "python",
   "name": "python3"
  },
  "language_info": {
   "codemirror_mode": {
    "name": "ipython",
    "version": 3
   },
   "file_extension": ".py",
   "mimetype": "text/x-python",
   "name": "python",
   "nbconvert_exporter": "python",
   "pygments_lexer": "ipython3",
   "version": "3.6.5"
  }
 },
 "nbformat": 4,
 "nbformat_minor": 2
}
