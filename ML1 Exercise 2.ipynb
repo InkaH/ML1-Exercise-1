{
 "cells": [
  {
   "cell_type": "markdown",
   "metadata": {},
   "source": [
    "### Take Abalone dataset. Run some clustering method (except k-means) with different number of clusters.\n",
    "### Which number of clusters is better? (use \"score\")"
   ]
  },
  {
   "cell_type": "code",
   "execution_count": 1,
   "metadata": {},
   "outputs": [],
   "source": [
    "import pandas as pd\n",
    "import numpy as np\n",
    "from matplotlib import cm, pyplot as plt\n",
    "%matplotlib inline\n",
    "np.set_printoptions(precision=2, suppress=True)"
   ]
  },
  {
   "cell_type": "code",
   "execution_count": 2,
   "metadata": {},
   "outputs": [],
   "source": [
    "names = ['Sex','Length','Diameter','Height','Whole weight','Shucked weight','Viscera weight','Shell weight','Rings']\n",
    "df = pd.read_csv('abalone.data',header=None,names=names)"
   ]
  },
  {
   "cell_type": "code",
   "execution_count": 3,
   "metadata": {},
   "outputs": [],
   "source": [
    "# change M,F and I categorical variables as numerical using 0,1 and 2.\n",
    "replace_list = {\"Sex\" : {\"M\": 0, \"F\" : 1, \"I\": 2}}\n",
    "df.replace(replace_list,inplace=True)"
   ]
  },
  {
   "cell_type": "code",
   "execution_count": 4,
   "metadata": {},
   "outputs": [
    {
     "data": {
      "text/html": [
       "<div>\n",
       "<style scoped>\n",
       "    .dataframe tbody tr th:only-of-type {\n",
       "        vertical-align: middle;\n",
       "    }\n",
       "\n",
       "    .dataframe tbody tr th {\n",
       "        vertical-align: top;\n",
       "    }\n",
       "\n",
       "    .dataframe thead th {\n",
       "        text-align: right;\n",
       "    }\n",
       "</style>\n",
       "<table border=\"1\" class=\"dataframe\">\n",
       "  <thead>\n",
       "    <tr style=\"text-align: right;\">\n",
       "      <th></th>\n",
       "      <th>Sex</th>\n",
       "      <th>Length</th>\n",
       "      <th>Diameter</th>\n",
       "      <th>Height</th>\n",
       "      <th>Whole weight</th>\n",
       "      <th>Shucked weight</th>\n",
       "      <th>Viscera weight</th>\n",
       "      <th>Shell weight</th>\n",
       "      <th>Rings</th>\n",
       "    </tr>\n",
       "  </thead>\n",
       "  <tbody>\n",
       "    <tr>\n",
       "      <th>0</th>\n",
       "      <td>0</td>\n",
       "      <td>0.455</td>\n",
       "      <td>0.365</td>\n",
       "      <td>0.095</td>\n",
       "      <td>0.5140</td>\n",
       "      <td>0.2245</td>\n",
       "      <td>0.1010</td>\n",
       "      <td>0.150</td>\n",
       "      <td>15</td>\n",
       "    </tr>\n",
       "    <tr>\n",
       "      <th>1</th>\n",
       "      <td>0</td>\n",
       "      <td>0.350</td>\n",
       "      <td>0.265</td>\n",
       "      <td>0.090</td>\n",
       "      <td>0.2255</td>\n",
       "      <td>0.0995</td>\n",
       "      <td>0.0485</td>\n",
       "      <td>0.070</td>\n",
       "      <td>7</td>\n",
       "    </tr>\n",
       "    <tr>\n",
       "      <th>2</th>\n",
       "      <td>1</td>\n",
       "      <td>0.530</td>\n",
       "      <td>0.420</td>\n",
       "      <td>0.135</td>\n",
       "      <td>0.6770</td>\n",
       "      <td>0.2565</td>\n",
       "      <td>0.1415</td>\n",
       "      <td>0.210</td>\n",
       "      <td>9</td>\n",
       "    </tr>\n",
       "    <tr>\n",
       "      <th>3</th>\n",
       "      <td>0</td>\n",
       "      <td>0.440</td>\n",
       "      <td>0.365</td>\n",
       "      <td>0.125</td>\n",
       "      <td>0.5160</td>\n",
       "      <td>0.2155</td>\n",
       "      <td>0.1140</td>\n",
       "      <td>0.155</td>\n",
       "      <td>10</td>\n",
       "    </tr>\n",
       "    <tr>\n",
       "      <th>4</th>\n",
       "      <td>2</td>\n",
       "      <td>0.330</td>\n",
       "      <td>0.255</td>\n",
       "      <td>0.080</td>\n",
       "      <td>0.2050</td>\n",
       "      <td>0.0895</td>\n",
       "      <td>0.0395</td>\n",
       "      <td>0.055</td>\n",
       "      <td>7</td>\n",
       "    </tr>\n",
       "  </tbody>\n",
       "</table>\n",
       "</div>"
      ],
      "text/plain": [
       "   Sex  Length  Diameter  Height  Whole weight  Shucked weight  \\\n",
       "0    0   0.455     0.365   0.095        0.5140          0.2245   \n",
       "1    0   0.350     0.265   0.090        0.2255          0.0995   \n",
       "2    1   0.530     0.420   0.135        0.6770          0.2565   \n",
       "3    0   0.440     0.365   0.125        0.5160          0.2155   \n",
       "4    2   0.330     0.255   0.080        0.2050          0.0895   \n",
       "\n",
       "   Viscera weight  Shell weight  Rings  \n",
       "0          0.1010         0.150     15  \n",
       "1          0.0485         0.070      7  \n",
       "2          0.1415         0.210      9  \n",
       "3          0.1140         0.155     10  \n",
       "4          0.0395         0.055      7  "
      ]
     },
     "execution_count": 4,
     "metadata": {},
     "output_type": "execute_result"
    }
   ],
   "source": [
    "df.head()"
   ]
  },
  {
   "cell_type": "code",
   "execution_count": 5,
   "metadata": {},
   "outputs": [
    {
     "data": {
      "image/png": "[encoded data removed]",
      "text/plain": [
       "<Figure size 720x504 with 1 Axes>"
      ]
     },
     "metadata": {},
     "output_type": "display_data"
    }
   ],
   "source": [
    "# let's see a dendogram first\n",
    "import scipy.cluster.hierarchy as shc\n",
    "\n",
    "plt.figure(figsize=(10, 7))  \n",
    "plt.title(\"Abalon Dendogram\")  \n",
    "dend = shc.dendrogram(shc.linkage(df, method='ward')) "
   ]
  },
  {
   "cell_type": "code",
   "execution_count": 6,
   "metadata": {},
   "outputs": [
    {
     "data": {
      "text/plain": [
       "AgglomerativeClustering(affinity='euclidean', compute_full_tree='auto',\n",
       "            connectivity=None, linkage='ward', memory=None, n_clusters=4,\n",
       "            pooling_func=<function mean at 0x00000218B5787620>)"
      ]
     },
     "execution_count": 6,
     "metadata": {},
     "output_type": "execute_result"
    }
   ],
   "source": [
    "# test with 4 clusters first\n",
    "from sklearn.cluster import AgglomerativeClustering\n",
    "cluster = AgglomerativeClustering(n_clusters=4)  \n",
    "cluster.fit(df)  "
   ]
  },
  {
   "cell_type": "code",
   "execution_count": 7,
   "metadata": {},
   "outputs": [
    {
     "data": {
      "text/plain": [
       "Text(0.5,1,'Abalone Agglomerative Clustering')"
      ]
     },
     "execution_count": 7,
     "metadata": {},
     "output_type": "execute_result"
    },
    {
     "data": {
      "image/png": "[encoded data removed]",
      "text/plain": [
       "<Figure size 432x288 with 1 Axes>"
      ]
     },
     "metadata": {},
     "output_type": "display_data"
    }
   ],
   "source": [
    "# let's visualize the result\n",
    "for i in zip(range(4)):\n",
    "    # plot the points belong to the current cluster\n",
    "    plt.scatter(df.values[:,0], df.values[:,1], c=cluster.labels_, cmap='rainbow')\n",
    "\n",
    "plt.title('Abalone Agglomerative Clustering') "
   ]
  },
  {
   "cell_type": "code",
   "execution_count": 8,
   "metadata": {},
   "outputs": [],
   "source": [
    "from sklearn import metrics\n",
    "\n",
    "# take Rings as true clusters\n",
    "labels_true = df['Rings']\n",
    "score = []\n",
    "clusters_settings = list(range(1, 100))\n",
    "for n_clusters in clusters_settings:\n",
    "# build the model\n",
    "    cluster = AgglomerativeClustering(n_clusters=n_clusters)  \n",
    "    labels_pred = cluster.fit_predict(df)  \n",
    "# record score\n",
    "    score.append(metrics.adjusted_rand_score(labels_true, labels_pred))    "
   ]
  },
  {
   "cell_type": "code",
   "execution_count": 9,
   "metadata": {},
   "outputs": [
    {
     "data": {
      "text/plain": [
       "<matplotlib.legend.Legend at 0x218ba3f27f0>"
      ]
     },
     "execution_count": 9,
     "metadata": {},
     "output_type": "execute_result"
    },
    {
     "data": {
      "image/png": "[encoded data removed]",
      "text/plain": [
       "<Figure size 432x288 with 1 Axes>"
      ]
     },
     "metadata": {},
     "output_type": "display_data"
    }
   ],
   "source": [
    "plt.plot(clusters_settings, score, label=\"score\")\n",
    "plt.ylabel(\" Adjusted Rand Score\")\n",
    "plt.xlabel(\"Num. clusters\")\n",
    "plt.legend()"
   ]
  },
  {
   "cell_type": "code",
   "execution_count": 10,
   "metadata": {},
   "outputs": [
    {
     "name": "stdout",
     "output_type": "stream",
     "text": [
      "Number of clusters with best performance by Adjusted Rand Score is: 9\n"
     ]
    }
   ],
   "source": [
    "# which number of clusters has best score?\n",
    "# adjust for starting from 1 cluster, not 0\n",
    "hi_score = score.index(max(score)) + 1\n",
    "print('Number of clusters with best performance by Adjusted Rand Score is: %s' % hi_score)\n",
    "# 9 clusters gave best score"
   ]
  },
  {
   "cell_type": "markdown",
   "metadata": {},
   "source": [
    "### Take Abalone dataset. Reduce its dimensionality to 3 with Kernel PCA, then run clustering with 10 clusters.\n",
    "### What age have the cluster centroids?\n",
    "Don’t forget to apply feature normalisation before clustering, and inverse feature normalisation for the cluster centres!"
   ]
  },
  {
   "cell_type": "code",
   "execution_count": 11,
   "metadata": {},
   "outputs": [],
   "source": [
    "from sklearn.decomposition import KernelPCA\n",
    "from sklearn.preprocessing import StandardScaler\n",
    "\n",
    "scaler = StandardScaler()\n",
    "scaler.fit(df)\n",
    "df_scaled = scaler.transform(df)\n",
    "\n",
    "pca = KernelPCA(n_components=3, kernel=\"cosine\", fit_inverse_transform=True)\n",
    "pca.fit(df_scaled)\n",
    "\n",
    "df_pca = pca.transform(df_scaled)\n",
    "\n",
    "#get original scale\n",
    "df_scaled = pca.inverse_transform(df_pca)\n",
    "df_original = scaler.inverse_transform(df_scaled)"
   ]
  },
  {
   "cell_type": "code",
   "execution_count": 12,
   "metadata": {},
   "outputs": [],
   "source": [
    "# cluster with 10\n",
    "cluster = AgglomerativeClustering(n_clusters=10)  \n",
    "labels_pred = cluster.fit_predict(df_pca)  "
   ]
  },
  {
   "cell_type": "code",
   "execution_count": 13,
   "metadata": {},
   "outputs": [],
   "source": [
    "new_df = pd.DataFrame(data=df_original, columns=df.columns, index=df.index)"
   ]
  },
  {
   "cell_type": "code",
   "execution_count": 14,
   "metadata": {},
   "outputs": [],
   "source": [
    "new_df['Cluster_num'] = labels_pred"
   ]
  },
  {
   "cell_type": "code",
   "execution_count": 15,
   "metadata": {},
   "outputs": [
    {
     "data": {
      "text/html": [
       "<div>\n",
       "<style scoped>\n",
       "    .dataframe tbody tr th:only-of-type {\n",
       "        vertical-align: middle;\n",
       "    }\n",
       "\n",
       "    .dataframe tbody tr th {\n",
       "        vertical-align: top;\n",
       "    }\n",
       "\n",
       "    .dataframe thead th {\n",
       "        text-align: right;\n",
       "    }\n",
       "</style>\n",
       "<table border=\"1\" class=\"dataframe\">\n",
       "  <thead>\n",
       "    <tr style=\"text-align: right;\">\n",
       "      <th></th>\n",
       "      <th>Sex</th>\n",
       "      <th>Length</th>\n",
       "      <th>Diameter</th>\n",
       "      <th>Height</th>\n",
       "      <th>Whole weight</th>\n",
       "      <th>Shucked weight</th>\n",
       "      <th>Viscera weight</th>\n",
       "      <th>Shell weight</th>\n",
       "      <th>Rings</th>\n",
       "      <th>Cluster_num</th>\n",
       "    </tr>\n",
       "  </thead>\n",
       "  <tbody>\n",
       "    <tr>\n",
       "      <th>0</th>\n",
       "      <td>0.354140</td>\n",
       "      <td>0.443330</td>\n",
       "      <td>0.346068</td>\n",
       "      <td>0.123475</td>\n",
       "      <td>0.498798</td>\n",
       "      <td>0.165839</td>\n",
       "      <td>0.105808</td>\n",
       "      <td>0.177192</td>\n",
       "      <td>12.992565</td>\n",
       "      <td>9</td>\n",
       "    </tr>\n",
       "    <tr>\n",
       "      <th>1</th>\n",
       "      <td>0.699871</td>\n",
       "      <td>0.396384</td>\n",
       "      <td>0.302561</td>\n",
       "      <td>0.099285</td>\n",
       "      <td>0.306027</td>\n",
       "      <td>0.136360</td>\n",
       "      <td>0.067273</td>\n",
       "      <td>0.089332</td>\n",
       "      <td>7.600103</td>\n",
       "      <td>7</td>\n",
       "    </tr>\n",
       "    <tr>\n",
       "      <th>2</th>\n",
       "      <td>1.378697</td>\n",
       "      <td>0.397177</td>\n",
       "      <td>0.301463</td>\n",
       "      <td>0.097239</td>\n",
       "      <td>0.300789</td>\n",
       "      <td>0.144994</td>\n",
       "      <td>0.066076</td>\n",
       "      <td>0.082731</td>\n",
       "      <td>6.563412</td>\n",
       "      <td>4</td>\n",
       "    </tr>\n",
       "    <tr>\n",
       "      <th>3</th>\n",
       "      <td>0.221166</td>\n",
       "      <td>0.416233</td>\n",
       "      <td>0.320921</td>\n",
       "      <td>0.108689</td>\n",
       "      <td>0.392942</td>\n",
       "      <td>0.157083</td>\n",
       "      <td>0.085583</td>\n",
       "      <td>0.123268</td>\n",
       "      <td>9.445034</td>\n",
       "      <td>7</td>\n",
       "    </tr>\n",
       "    <tr>\n",
       "      <th>4</th>\n",
       "      <td>1.618006</td>\n",
       "      <td>0.399608</td>\n",
       "      <td>0.304183</td>\n",
       "      <td>0.100087</td>\n",
       "      <td>0.305973</td>\n",
       "      <td>0.134324</td>\n",
       "      <td>0.065978</td>\n",
       "      <td>0.093159</td>\n",
       "      <td>7.646475</td>\n",
       "      <td>4</td>\n",
       "    </tr>\n",
       "  </tbody>\n",
       "</table>\n",
       "</div>"
      ],
      "text/plain": [
       "        Sex    Length  Diameter    Height  Whole weight  Shucked weight  \\\n",
       "0  0.354140  0.443330  0.346068  0.123475      0.498798        0.165839   \n",
       "1  0.699871  0.396384  0.302561  0.099285      0.306027        0.136360   \n",
       "2  1.378697  0.397177  0.301463  0.097239      0.300789        0.144994   \n",
       "3  0.221166  0.416233  0.320921  0.108689      0.392942        0.157083   \n",
       "4  1.618006  0.399608  0.304183  0.100087      0.305973        0.134324   \n",
       "\n",
       "   Viscera weight  Shell weight      Rings  Cluster_num  \n",
       "0        0.105808      0.177192  12.992565            9  \n",
       "1        0.067273      0.089332   7.600103            7  \n",
       "2        0.066076      0.082731   6.563412            4  \n",
       "3        0.085583      0.123268   9.445034            7  \n",
       "4        0.065978      0.093159   7.646475            4  "
      ]
     },
     "execution_count": 15,
     "metadata": {},
     "output_type": "execute_result"
    }
   ],
   "source": [
    "new_df.head()"
   ]
  },
  {
   "cell_type": "code",
   "execution_count": 16,
   "metadata": {},
   "outputs": [
    {
     "name": "stdout",
     "output_type": "stream",
     "text": [
      "Cluster 0 centroid age: 10.75\n",
      "Cluster 1 centroid age: 8.45\n",
      "Cluster 2 centroid age: 11.32\n",
      "Cluster 3 centroid age: 7.68\n",
      "Cluster 4 centroid age: 7.66\n",
      "Cluster 5 centroid age: 14.16\n",
      "Cluster 6 centroid age: 15.20\n",
      "Cluster 7 centroid age: 8.53\n",
      "Cluster 8 centroid age: 4.28\n",
      "Cluster 9 centroid age: 13.61\n"
     ]
    },
    {
     "data": {
      "text/plain": [
       "'\\nCluster 0 centroid age: 10.75\\nCluster 1 centroid age: 8.45\\nCluster 2 centroid age: 11.32\\nCluster 3 centroid age: 7.68\\nCluster 4 centroid age: 7.66\\nCluster 5 centroid age: 14.16\\nCluster 6 centroid age: 15.20\\nCluster 7 centroid age: 8.53\\nCluster 8 centroid age: 4.28\\nCluster 9 centroid age: 13.61\\n'"
      ]
     },
     "execution_count": 16,
     "metadata": {},
     "output_type": "execute_result"
    }
   ],
   "source": [
    "# to answer question 'What age have the cluster centriods?', we assume \n",
    "# age means column Rings, and then calculate the mean of Rings in each cluster 0-9\n",
    "clusters = list(range(10))\n",
    "ages_of_centroids = []\n",
    "for cluster in clusters:\n",
    "    print(\"Cluster {} centroid age: {:.2f}\".format(cluster, new_df[new_df['Cluster_num'] == cluster]['Rings'].mean()))\n",
    "    \n",
    "'''\n",
    "Cluster 0 centroid age: 10.75\n",
    "Cluster 1 centroid age: 8.45\n",
    "Cluster 2 centroid age: 11.32\n",
    "Cluster 3 centroid age: 7.68\n",
    "Cluster 4 centroid age: 7.66\n",
    "Cluster 5 centroid age: 14.16\n",
    "Cluster 6 centroid age: 15.20\n",
    "Cluster 7 centroid age: 8.53\n",
    "Cluster 8 centroid age: 4.28\n",
    "Cluster 9 centroid age: 13.61\n",
    "'''"
   ]
  },
  {
   "cell_type": "markdown",
   "metadata": {},
   "source": [
    "### Label propagation:\n",
    "-  cluster Abalone dataset without age (rings) feature using Gaussian Mixture Model\n",
    "-  take randomly 20 samples with age from the original Abalone dataset, predict their probabilities with GaussianMM (\"predict_proba\")\n",
    "-  compute class distribution for each Gaussian component\n",
    "-  compute Gaussian components for each original data point\n",
    "-  compute labels of original data points by multiplying their Gaussian components by class distribution of these components\n",
    "-  How correct was this label propagation?"
   ]
  },
  {
   "cell_type": "code",
   "execution_count": 40,
   "metadata": {},
   "outputs": [
    {
     "data": {
      "image/png": "[encoded data removed]",
      "text/plain": [
       "<Figure size 432x288 with 1 Axes>"
      ]
     },
     "metadata": {},
     "output_type": "display_data"
    }
   ],
   "source": [
    "# -  cluster Abalone dataset without age (rings) feature using Gaussian Mixture Model\n",
    "\n",
    "from sklearn.mixture import GaussianMixture\n",
    "\n",
    "X = np.array(df.drop(['Rings'], 1))\n",
    "gmm = GaussianMixture(n_components=4).fit(X)\n",
    "labels = gmm.predict(X)\n",
    "plt.scatter(X[:, 0], X[:, 1], c=labels, s=40);\n"
   ]
  },
  {
   "cell_type": "code",
   "execution_count": 41,
   "metadata": {},
   "outputs": [],
   "source": [
    "# -  take randomly 20 samples with age from the original Abalone dataset, predict \n",
    "# their probabilities with GaussianMM (\"predict_proba\")\n",
    "# I assume with \"GaussianMM\" you mean GaussianMixture, because when I try to import GaussianMM I am told it doesn't exist.\n",
    "\n",
    "df_sample = df.sample(20)\n",
    "X = np.array(df_sample)"
   ]
  },
  {
   "cell_type": "code",
   "execution_count": 42,
   "metadata": {},
   "outputs": [
    {
     "name": "stdout",
     "output_type": "stream",
     "text": [
      "[[0. 0. 0. 0. 0. 0. 1. 0. 0.]\n",
      " [0. 0. 0. 0. 0. 0. 0. 0. 1.]\n",
      " [0. 0. 0. 1. 0. 0. 0. 0. 0.]\n",
      " [0. 0. 0. 0. 0. 0. 1. 0. 0.]\n",
      " [0. 0. 0. 0. 1. 0. 0. 0. 0.]]\n"
     ]
    }
   ],
   "source": [
    "gmm = GaussianMixture(n_components=9).fit(X)\n",
    "probs = gmm.predict_proba(X)\n",
    "print(probs[:5].round(3))"
   ]
  },
  {
   "cell_type": "markdown",
   "metadata": {},
   "source": [
    "#### I don't know what is a Gaussian component, and what does class distribution mean here. I don't understand what means compute Gaussian components for each original data point. Also I don't understand what means compute labels of original data points by multiplying their Gaussian components by class distribution of these components\n",
    "Neither lecture materials nor the book contain examples of using Gaussian Mixture Model and explain the terms that should be understood to do this exercise. This exercise is too difficult and lacking teaching materials required to know how to do it."
   ]
  }
 ],
 "metadata": {
  "kernelspec": {
   "display_name": "Python 3",
   "language": "python",
   "name": "python3"
  },
  "language_info": {
   "codemirror_mode": {
    "name": "ipython",
    "version": 3
   },
   "file_extension": ".py",
   "mimetype": "text/x-python",
   "name": "python",
   "nbconvert_exporter": "python",
   "pygments_lexer": "ipython3",
   "version": "3.6.5"
  }
 },
 "nbformat": 4,
 "nbformat_minor": 2
}
